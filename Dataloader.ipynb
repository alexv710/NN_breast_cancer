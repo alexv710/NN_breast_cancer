{
 "cells": [
  {
   "cell_type": "code",
   "execution_count": 4,
   "metadata": {},
   "outputs": [],
   "source": [
    "import pandas as pd\n",
    "import numpy as np\n",
    "import datetime\n",
    "\n",
    "# used to access folder structures\n",
    "import os\n",
    "\n",
    "# used to open images\n",
    "import PIL\n",
    "\n",
    "# Graphs, visualizations\n",
    "import matplotlib.pyplot as plt\n",
    "from IPython.display import display, HTML\n",
    "import scipy\n",
    "\n",
    "\n",
    "\n",
    "from sklearn.model_selection import train_test_split"
   ]
  },
  {
   "cell_type": "code",
   "execution_count": 5,
   "metadata": {},
   "outputs": [
    {
     "name": "stdout",
     "output_type": "stream",
     "text": [
      "No. of Patients total: 279\n",
      "Total Images in dataset:  277524\n"
     ]
    }
   ],
   "source": [
    "base_path = \"IDC_regular_ps50_idx5/\"\n",
    "folder = os.listdir(base_path)\n",
    "print(\"No. of Patients total:\",len(folder))\n",
    "\n",
    "total_images = 0\n",
    "for n in range(len(folder)):\n",
    "    patient_id = folder[n]\n",
    "    for c in [0, 1]:\n",
    "        patient_path = base_path + patient_id\n",
    "        class_path = patient_path + '/' + str(c) + '/'\n",
    "        subfiles = os.listdir(class_path)\n",
    "        total_images += len(subfiles)\n",
    "        \n",
    "print(\"Total Images in dataset: \", total_images )"
   ]
  },
  {
   "cell_type": "code",
   "execution_count": 6,
   "metadata": {},
   "outputs": [],
   "source": [
    "# create an empty dataframe with a column for each the patient id,\n",
    "# the path to the image and the target label for each patch\n",
    "data = pd.DataFrame(index=np.arange(0, total_images), columns=[\"patient_id\", \"path\", \"target\"])\n",
    "\n",
    "patientData = pd.DataFrame(index=np.arange(0, len(folder)), columns=[\"patient_id\", \"nrPos\", \"nrNeg\"])\n",
    "\n",
    "k = 0\n",
    "n = 0\n",
    "# Iterate over all patients (1 folder = 1 patient)\n",
    "for i in range(len(folder)):\n",
    "    \n",
    "    # Fill the patient Data dataframe with the patient and the number of pos and neg patches\n",
    "    if n > 0:\n",
    "        patientData.iloc[n-1][\"patient_id\"] = patient_id\n",
    "        patientData.iloc[n-1][\"nrPos\"] = nrPos\n",
    "        patientData.iloc[n-1][\"nrNeg\"] = nrNeg\n",
    "    \n",
    "    nrPos = 0\n",
    "    nrNeg = 0\n",
    "    \n",
    "    patient_id = folder[n]\n",
    "    patient_path = base_path + patient_id \n",
    "    \n",
    "    # Iterate over the two subfolders with the negative and positive patches \n",
    "    for c in [0,1]:        \n",
    "        class_path = patient_path + \"/\" + str(c) + \"/\"\n",
    "        subfiles = os.listdir(class_path)\n",
    "        \n",
    "        # Iterate over the images in the subfolder and fill the dataframe\n",
    "        for m in range(len(subfiles)):\n",
    "            \n",
    "            # Count the number of positive and negative patches per patient\n",
    "            if c == 0:\n",
    "                nrNeg += 1\n",
    "            else:\n",
    "                nrPos += 1\n",
    "            \n",
    "            image_path = subfiles[m]\n",
    "            data.iloc[k][\"path\"] = class_path + image_path\n",
    "            data.iloc[k][\"target\"] = c\n",
    "            data.iloc[k][\"patient_id\"] = patient_id\n",
    "            k += 1\n",
    "    n += 1\n",
    "\n",
    "# write the last patient\n",
    "patientData.iloc[n-1][\"patient_id\"] = patient_id\n",
    "patientData.iloc[n-1][\"nrPos\"] = nrPos\n",
    "patientData.iloc[n-1][\"nrNeg\"] = nrNeg"
   ]
  },
  {
   "cell_type": "code",
   "execution_count": 7,
   "metadata": {},
   "outputs": [],
   "source": [
    "data.to_pickle('data.pkl')\n",
    "patientData.to_pickle('patientData.pkl')"
   ]
  }
 ],
 "metadata": {
  "kernelspec": {
   "display_name": "Python 3",
   "language": "python",
   "name": "python3"
  },
  "language_info": {
   "codemirror_mode": {
    "name": "ipython",
    "version": 3
   },
   "file_extension": ".py",
   "mimetype": "text/x-python",
   "name": "python",
   "nbconvert_exporter": "python",
   "pygments_lexer": "ipython3",
   "version": "3.8.5"
  }
 },
 "nbformat": 4,
 "nbformat_minor": 5
}
