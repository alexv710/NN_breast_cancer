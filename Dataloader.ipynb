{
 "cells": [
  {
   "cell_type": "code",
   "execution_count": 1,
   "metadata": {},
   "outputs": [],
   "source": [
    "import pandas as pd\n",
    "import numpy as np\n",
    "import datetime\n",
    "\n",
    "# used to access folder structures\n",
    "import os\n",
    "\n",
    "# used to open images\n",
    "import PIL\n",
    "\n",
    "# Graphs, visualizations\n",
    "import matplotlib.pyplot as plt\n",
    "import scipy\n",
    "\n",
    "import pickle\n",
    "from tqdm import tqdm"
   ]
  },
  {
   "cell_type": "code",
   "execution_count": 2,
   "metadata": {},
   "outputs": [
    {
     "name": "stdout",
     "output_type": "stream",
     "text": [
      "No. of Patients total: 279\n",
      "Total Images in dataset:  277524\n"
     ]
    }
   ],
   "source": [
    "base_path = \"IDC_regular_ps50_idx5/\"\n",
    "folder = os.listdir(base_path)\n",
    "print(\"No. of Patients total:\",len(folder))\n",
    "\n",
    "total_images = 0\n",
    "for n in range(len(folder)):\n",
    "    patient_id = folder[n]\n",
    "    for c in [0, 1]:\n",
    "        patient_path = base_path + patient_id\n",
    "        class_path = patient_path + '/' + str(c) + '/'\n",
    "        subfiles = os.listdir(class_path)\n",
    "        total_images += len(subfiles)\n",
    "        \n",
    "print(\"Total Images in dataset: \", total_images )"
   ]
  },
  {
   "cell_type": "code",
   "execution_count": 3,
   "metadata": {},
   "outputs": [],
   "source": [
    "# create an empty dataframe with a column for each the patient id,\n",
    "# the path to the image and the target label for each patch\n",
    "data = pd.DataFrame(index=np.arange(0, total_images), columns=[\"patient_id\", \"path\", \"target\"])\n",
    "\n",
    "patientData = pd.DataFrame(index=np.arange(0, len(folder)), columns=[\"patient_id\", \"nrPos\", \"nrNeg\"])\n",
    "\n",
    "k = 0\n",
    "n = 0\n",
    "# Iterate over all patients (1 folder = 1 patient)\n",
    "for i in range(len(folder)):\n",
    "    \n",
    "    # Fill the patient Data dataframe with the patient and the number of pos and neg patches\n",
    "    if n > 0:\n",
    "        patientData.iloc[n-1][\"patient_id\"] = patient_id\n",
    "        patientData.iloc[n-1][\"nrPos\"] = nrPos\n",
    "        patientData.iloc[n-1][\"nrNeg\"] = nrNeg\n",
    "    \n",
    "    nrPos = 0\n",
    "    nrNeg = 0\n",
    "    \n",
    "    patient_id = folder[n]\n",
    "    patient_path = base_path + patient_id \n",
    "    \n",
    "    # Iterate over the two subfolders with the negative and positive patches \n",
    "    for c in [0,1]:        \n",
    "        class_path = patient_path + \"/\" + str(c) + \"/\"\n",
    "        subfiles = os.listdir(class_path)\n",
    "        \n",
    "        # Iterate over the images in the subfolder and fill the dataframe\n",
    "        for m in range(len(subfiles)):\n",
    "            \n",
    "            # Count the number of positive and negative patches per patient\n",
    "            if c == 0:\n",
    "                nrNeg += 1\n",
    "            else:\n",
    "                nrPos += 1\n",
    "            \n",
    "            image_path = subfiles[m]\n",
    "            data.iloc[k][\"path\"] = class_path + image_path\n",
    "            data.iloc[k][\"target\"] = c\n",
    "            data.iloc[k][\"patient_id\"] = patient_id\n",
    "            k += 1\n",
    "    n += 1\n",
    "\n",
    "# write the last patient\n",
    "patientData.iloc[n-1][\"patient_id\"] = patient_id\n",
    "patientData.iloc[n-1][\"nrPos\"] = nrPos\n",
    "patientData.iloc[n-1][\"nrNeg\"] = nrNeg"
   ]
  },
  {
   "cell_type": "code",
   "execution_count": 4,
   "metadata": {},
   "outputs": [],
   "source": [
    "data.to_pickle('data.pkl')\n",
    "patientData.to_pickle('patientData.pkl')"
   ]
  },
  {
   "cell_type": "code",
   "execution_count": 5,
   "metadata": {},
   "outputs": [
    {
     "name": "stderr",
     "output_type": "stream",
     "text": [
      "100%|████████████████████████████████████████████████████████████████████████| 277524/277524 [04:24<00:00, 1051.00it/s]\n"
     ]
    },
    {
     "name": "stdout",
     "output_type": "stream",
     "text": [
      "X_data shape:  (277524, 50, 50, 3)\n",
      "y_data shape:  (277524,)\n",
      "In total 2302 patches had to be resized, since the format differed from 50x50\n"
     ]
    }
   ],
   "source": [
    "X_data=[]\n",
    "y_data=[]\n",
    "resized = 0\n",
    "\n",
    "with tqdm(total=data.shape[0]) as pbar: \n",
    "    for index, row in data[:].iterrows():\n",
    "        pbar.update(1)\n",
    "        image = PIL.Image.open(row['path'])\n",
    "        npImage = np.asarray(image)\n",
    "\n",
    "        # Resize images with format different than our 50x50 patches\n",
    "        if npImage.shape != (50, 50, 3):\n",
    "            resized += 1\n",
    "            image = image.resize((50, 50))\n",
    "            npImage = np.asarray(image)\n",
    "        X_data.append(npImage)\n",
    "        y_data.append(row['target'])\n",
    "    \n",
    "    \n",
    "print('X_data shape: ', np.array(X_data).shape)\n",
    "print('y_data shape: ', np.array(y_data).shape)\n",
    "\n",
    "print('In total %d patches had to be resized, since the format differed from 50x50'%resized)"
   ]
  },
  {
   "cell_type": "code",
   "execution_count": 6,
   "metadata": {},
   "outputs": [],
   "source": [
    "# Create a pickle file\n",
    "open_file = open(\"X.pickle\", \"wb\")\n",
    "\n",
    "# Write the X_data to the pickle file\n",
    "pickle.dump(X_data, open_file)\n",
    "\n",
    "# Close the file again\n",
    "open_file.close()\n",
    "\n",
    "open_file = open(\"y.pickle\", \"wb\")\n",
    "pickle.dump(y_data, open_file)\n",
    "\n",
    "open_file.close()"
   ]
  },
  {
   "cell_type": "code",
   "execution_count": 7,
   "metadata": {},
   "outputs": [
    {
     "data": {
      "text/plain": [
       "array([[[226, 164, 206],\n",
       "        [224, 154, 196],\n",
       "        [225, 175, 211],\n",
       "        ...,\n",
       "        [240, 221, 237],\n",
       "        [232, 184, 214],\n",
       "        [243, 213, 235]],\n",
       "\n",
       "       [[217, 142, 188],\n",
       "        [221, 130, 179],\n",
       "        [224, 150, 196],\n",
       "        ...,\n",
       "        [227, 170, 204],\n",
       "        [229, 180, 215],\n",
       "        [236, 212, 232]],\n",
       "\n",
       "       [[237, 178, 212],\n",
       "        [229, 157, 199],\n",
       "        [218, 125, 175],\n",
       "        ...,\n",
       "        [221, 184, 217],\n",
       "        [190, 153, 193],\n",
       "        [227, 164, 208]],\n",
       "\n",
       "       ...,\n",
       "\n",
       "       [[217, 145, 192],\n",
       "        [214, 129, 184],\n",
       "        [212, 129, 183],\n",
       "        ...,\n",
       "        [194, 122, 185],\n",
       "        [204, 143, 193],\n",
       "        [189, 129, 188]],\n",
       "\n",
       "       [[218, 144, 192],\n",
       "        [213, 128, 185],\n",
       "        [208, 121, 171],\n",
       "        ...,\n",
       "        [136,  79, 145],\n",
       "        [184, 111, 174],\n",
       "        [188, 112, 176]],\n",
       "\n",
       "       [[212, 125, 181],\n",
       "        [211, 136, 181],\n",
       "        [220, 162, 206],\n",
       "        ...,\n",
       "        [127,  90, 152],\n",
       "        [213, 167, 202],\n",
       "        [215, 180, 211]]], dtype=uint8)"
      ]
     },
     "execution_count": 7,
     "metadata": {},
     "output_type": "execute_result"
    }
   ],
   "source": [
    "X_data[0]"
   ]
  },
  {
   "cell_type": "code",
   "execution_count": null,
   "metadata": {},
   "outputs": [],
   "source": []
  }
 ],
 "metadata": {
  "kernelspec": {
   "display_name": "Python 3",
   "language": "python",
   "name": "python3"
  },
  "language_info": {
   "codemirror_mode": {
    "name": "ipython",
    "version": 3
   },
   "file_extension": ".py",
   "mimetype": "text/x-python",
   "name": "python",
   "nbconvert_exporter": "python",
   "pygments_lexer": "ipython3",
   "version": "3.7.9"
  }
 },
 "nbformat": 4,
 "nbformat_minor": 5
}
