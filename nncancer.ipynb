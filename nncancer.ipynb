{
 "cells": [
  {
   "cell_type": "markdown",
   "id": "6fd191f5",
   "metadata": {},
   "source": [
    "## Motivation\n",
    "Currently AI is advancing in the field of healthcare to improve detection of malignant tumors, give treatment recommendations, engage patients and support in administrative activities (Davenport and Kalakota 2019). Our goal is to contribute to this field by applying a neural network with transfer learning on a dataset with the aim to detect malignant cells of breast cancer. \n",
    "\n",
    "According to Krebsliga Schweiz (2021), there are 6’250 new cases and 1’410 deaths associated with breast cancer in Switzerland every year. Early diagnosis and treatment are a key to increasing the 5-year survival rate of patients.  \n",
    "\n",
    "From a technical standpoint we want to investigate the performance differences between neural networks with and without transfer learning in the field of tumor detection.\n",
    "\n",
    "## Data\n",
    "\n",
    "We use the Kaggle dataset: Breast Histopathology Images, which contains 277’524 images that are classified whether the sample is positive or negative for Invasive Ductal Carcinoma (IDC). Therefore, we face a binary classification problem with this dataset. The sample dataset contains images scanned at 40x zoom that are prepared in 50 x 50-pixel patches.\n",
    "\n",
    "[Kaggle Dataset](https://www.kaggle.com/paultimothymooney/breast-histopathology-images)"
   ]
  },
  {
   "cell_type": "markdown",
   "id": "67147585",
   "metadata": {},
   "source": [
    "#### Import packages"
   ]
  },
  {
   "cell_type": "code",
   "execution_count": null,
   "id": "fa8d1de6",
   "metadata": {},
   "outputs": [],
   "source": [
    "import IPython"
   ]
  },
  {
   "cell_type": "code",
   "execution_count": null,
   "id": "33afcdf9",
   "metadata": {},
   "outputs": [],
   "source": []
  },
  {
   "cell_type": "code",
   "execution_count": 35,
   "id": "abce71e1",
   "metadata": {},
   "outputs": [],
   "source": [
    "import pandas as pd\n",
    "import numpy as np\n",
    "import datetime\n",
    "\n",
    "# used to access folder structures\n",
    "import os\n",
    "\n",
    "# used to open images\n",
    "import PIL\n",
    "\n",
    "# Graphs, visualizations\n",
    "import matplotlib.pyplot\n",
    "import matplotlib.pyplot as plt\n",
    "from IPython.display import display, HTML\n",
    "import scipy\n",
    "\n",
    "# import tensorflow as tf\n",
    "import keras\n",
    "\n",
    "# For Image Data Augmentation\n",
    "# from tensorflow.keras.preprocessing.image import ImageDataGenerator\n",
    "\n",
    "# from tensorflow.keras.callbacks import ReduceLROnPlateau\n",
    "# from tensorflow.keras.layers import Flatten, Dense, BatchNormalization, Activation, Dropout\n",
    "# from tensorflow.keras import layers\n",
    "from keras.optimizers import Adam, SGD\n",
    "\n",
    "\n",
    "from sklearn.model_selection import train_test_split"
   ]
  },
  {
   "cell_type": "raw",
   "id": "5511f9cf",
   "metadata": {},
   "source": [
    "# Check for gpu support\n",
    "# Troubleshooting: \n",
    "# Python Version = 3.7.9\n",
    "# tensorflow Version = 2.3.0\n",
    "# tf.keras Version = 2.4.0\n",
    "'''\n",
    "from platform import python_version\n",
    "print(python_version())\n",
    "print(tf.__version__)\n",
    "print(tf.keras.__version__)\n",
    "\n",
    "from tensorflow.python.client import device_lib\n",
    "print(device_lib.list_local_devices())\n",
    "\n",
    "import tensorflow as tf\n",
    "tf.config.list_physical_devices('GPU')\n",
    "'''"
   ]
  },
  {
   "cell_type": "markdown",
   "id": "23b88504",
   "metadata": {},
   "source": [
    "# Data preparation\n",
    "* Initialize the path to all the images\n",
    "* Create a dataframe with 3 collumns, which store the patient Id, the path to the picture and the picture itself\n",
    "* Crete the new file strucure "
   ]
  },
  {
   "cell_type": "code",
   "execution_count": 2,
   "id": "17c14537",
   "metadata": {},
   "outputs": [
    {
     "name": "stdout",
     "output_type": "stream",
     "text": [
      "No. of Patients total: 279\n",
      "Total Images in dataset:  277524\n"
     ]
    }
   ],
   "source": [
    "base_path = \"IDC_regular_ps50_idx5/\"\n",
    "folder = os.listdir(base_path)\n",
    "print(\"No. of Patients total:\",len(folder))\n",
    "\n",
    "total_images = 0\n",
    "for n in range(len(folder)):\n",
    "    patient_id = folder[n]\n",
    "    for c in [0, 1]:\n",
    "        patient_path = base_path + patient_id\n",
    "        class_path = patient_path + '/' + str(c) + '/'\n",
    "        subfiles = os.listdir(class_path)\n",
    "        total_images += len(subfiles)\n",
    "        \n",
    "print(\"Total Images in dataset: \", total_images )"
   ]
  },
  {
   "cell_type": "markdown",
   "id": "54620146",
   "metadata": {},
   "source": [
    "In total there are 279 patients in our dataset, from images of those patients in total 277'524 patches were created which each consist of a 50x50 pixel patch. While the number of patches to be analysed consists of a good number of samples to train a neural network, the relatively low number of patients indicates that further verification of our results would be needed to confirm generalizablility.  \n",
    "\n",
    "Next we iterate over the whole folder structure with all the data and fill two dataframes:\n",
    "* One dataframe (data) holds the patient id, path to the patch as well as the target label. It will be used to prepare the ndarray creation for our X and y.\n",
    "* The second dataframe (patientData) holds the patient id and the number of positive as well as negative patches per patient. This will be used for some visualisations and exploratory analysis of the data."
   ]
  },
  {
   "cell_type": "code",
   "execution_count": 3,
   "id": "bbae02cc",
   "metadata": {},
   "outputs": [],
   "source": [
    "# create an empty dataframe with a column for each the patient id,\n",
    "# the path to the image and the target label for each patch\n",
    "data = pd.DataFrame(index=np.arange(0, total_images), columns=[\"patient_id\", \"path\", \"target\"])\n",
    "\n",
    "patientData = pd.DataFrame(index=np.arange(0, len(folder)), columns=[\"patient_id\", \"nrPos\", \"nrNeg\"])\n",
    "\n",
    "k = 0\n",
    "n = 0\n",
    "# Iterate over all patients (1 folder = 1 patient)\n",
    "for i in range(len(folder)):\n",
    "    \n",
    "    # Fill the patient Data dataframe with the patient and the number of pos and neg patches\n",
    "    if n > 0:\n",
    "        patientData.iloc[n-1][\"patient_id\"] = patient_id\n",
    "        patientData.iloc[n-1][\"nrPos\"] = nrPos\n",
    "        patientData.iloc[n-1][\"nrNeg\"] = nrNeg\n",
    "    \n",
    "    nrPos = 0\n",
    "    nrNeg = 0\n",
    "    \n",
    "    patient_id = folder[n]\n",
    "    patient_path = base_path + patient_id \n",
    "    \n",
    "    # Iterate over the two subfolders with the negative and positive patches \n",
    "    for c in [0,1]:        \n",
    "        class_path = patient_path + \"/\" + str(c) + \"/\"\n",
    "        subfiles = os.listdir(class_path)\n",
    "        \n",
    "        # Iterate over the images in the subfolder and fill the dataframe\n",
    "        for m in range(len(subfiles)):\n",
    "            \n",
    "            # Count the number of positive and negative patches per patient\n",
    "            if c == 0:\n",
    "                nrNeg += 1\n",
    "            else:\n",
    "                nrPos += 1\n",
    "            \n",
    "            image_path = subfiles[m]\n",
    "            data.iloc[k][\"path\"] = class_path + image_path\n",
    "            data.iloc[k][\"target\"] = c\n",
    "            data.iloc[k][\"patient_id\"] = patient_id\n",
    "            k += 1\n",
    "    n += 1\n",
    "\n",
    "# write the last patient\n",
    "patientData.iloc[n-1][\"patient_id\"] = patient_id\n",
    "patientData.iloc[n-1][\"nrPos\"] = nrPos\n",
    "patientData.iloc[n-1][\"nrNeg\"] = nrNeg"
   ]
  },
  {
   "cell_type": "code",
   "execution_count": 4,
   "id": "f6a32588",
   "metadata": {},
   "outputs": [
    {
     "data": {
      "text/html": [
       "<div>\n",
       "<style scoped>\n",
       "    .dataframe tbody tr th:only-of-type {\n",
       "        vertical-align: middle;\n",
       "    }\n",
       "\n",
       "    .dataframe tbody tr th {\n",
       "        vertical-align: top;\n",
       "    }\n",
       "\n",
       "    .dataframe thead th {\n",
       "        text-align: right;\n",
       "    }\n",
       "</style>\n",
       "<table border=\"1\" class=\"dataframe\">\n",
       "  <thead>\n",
       "    <tr style=\"text-align: right;\">\n",
       "      <th></th>\n",
       "      <th>patient_id</th>\n",
       "      <th>path</th>\n",
       "      <th>target</th>\n",
       "    </tr>\n",
       "  </thead>\n",
       "  <tbody>\n",
       "    <tr>\n",
       "      <th>0</th>\n",
       "      <td>16014</td>\n",
       "      <td>IDC_regular_ps50_idx5/16014/0/16014_idx5_x401_...</td>\n",
       "      <td>0</td>\n",
       "    </tr>\n",
       "    <tr>\n",
       "      <th>1</th>\n",
       "      <td>16014</td>\n",
       "      <td>IDC_regular_ps50_idx5/16014/0/16014_idx5_x1601...</td>\n",
       "      <td>0</td>\n",
       "    </tr>\n",
       "    <tr>\n",
       "      <th>2</th>\n",
       "      <td>16014</td>\n",
       "      <td>IDC_regular_ps50_idx5/16014/0/16014_idx5_x1601...</td>\n",
       "      <td>0</td>\n",
       "    </tr>\n",
       "    <tr>\n",
       "      <th>3</th>\n",
       "      <td>16014</td>\n",
       "      <td>IDC_regular_ps50_idx5/16014/0/16014_idx5_x551_...</td>\n",
       "      <td>0</td>\n",
       "    </tr>\n",
       "    <tr>\n",
       "      <th>4</th>\n",
       "      <td>16014</td>\n",
       "      <td>IDC_regular_ps50_idx5/16014/0/16014_idx5_x1851...</td>\n",
       "      <td>0</td>\n",
       "    </tr>\n",
       "  </tbody>\n",
       "</table>\n",
       "</div>"
      ],
      "text/plain": [
       "  patient_id                                               path target\n",
       "0      16014  IDC_regular_ps50_idx5/16014/0/16014_idx5_x401_...      0\n",
       "1      16014  IDC_regular_ps50_idx5/16014/0/16014_idx5_x1601...      0\n",
       "2      16014  IDC_regular_ps50_idx5/16014/0/16014_idx5_x1601...      0\n",
       "3      16014  IDC_regular_ps50_idx5/16014/0/16014_idx5_x551_...      0\n",
       "4      16014  IDC_regular_ps50_idx5/16014/0/16014_idx5_x1851...      0"
      ]
     },
     "execution_count": 4,
     "metadata": {},
     "output_type": "execute_result"
    }
   ],
   "source": [
    "data.head()"
   ]
  },
  {
   "cell_type": "code",
   "execution_count": 29,
   "id": "3bbb8ca9",
   "metadata": {},
   "outputs": [
    {
     "data": {
      "text/html": [
       "<style>\n",
       "div.cell:nth-child(24) .output {\n",
       "    flex-direction: row;\n",
       "}\n",
       "</style>"
      ],
      "text/plain": [
       "<IPython.core.display.HTML object>"
      ]
     },
     "execution_count": 29,
     "metadata": {},
     "output_type": "execute_result"
    }
   ],
   "source": [
    "CSS = \"\"\"\n",
    "div.cell:nth-child(24) .output {\n",
    "    flex-direction: row;\n",
    "}\n",
    "\"\"\"\n",
    "HTML('<style>{}</style>'.format(CSS))"
   ]
  },
  {
   "cell_type": "code",
   "execution_count": 6,
   "id": "dac76fda",
   "metadata": {},
   "outputs": [
    {
     "data": {
      "text/html": [
       "<div>\n",
       "<style scoped>\n",
       "    .dataframe tbody tr th:only-of-type {\n",
       "        vertical-align: middle;\n",
       "    }\n",
       "\n",
       "    .dataframe tbody tr th {\n",
       "        vertical-align: top;\n",
       "    }\n",
       "\n",
       "    .dataframe thead th {\n",
       "        text-align: right;\n",
       "    }\n",
       "</style>\n",
       "<table border=\"1\" class=\"dataframe\">\n",
       "  <thead>\n",
       "    <tr style=\"text-align: right;\">\n",
       "      <th></th>\n",
       "      <th>patient_id</th>\n",
       "      <th>path</th>\n",
       "      <th>target</th>\n",
       "    </tr>\n",
       "  </thead>\n",
       "  <tbody>\n",
       "    <tr>\n",
       "      <th>0</th>\n",
       "      <td>16014</td>\n",
       "      <td>IDC_regular_ps50_idx5/16014/0/16014_idx5_x401_...</td>\n",
       "      <td>0</td>\n",
       "    </tr>\n",
       "    <tr>\n",
       "      <th>1</th>\n",
       "      <td>16014</td>\n",
       "      <td>IDC_regular_ps50_idx5/16014/0/16014_idx5_x1601...</td>\n",
       "      <td>0</td>\n",
       "    </tr>\n",
       "    <tr>\n",
       "      <th>2</th>\n",
       "      <td>16014</td>\n",
       "      <td>IDC_regular_ps50_idx5/16014/0/16014_idx5_x1601...</td>\n",
       "      <td>0</td>\n",
       "    </tr>\n",
       "    <tr>\n",
       "      <th>3</th>\n",
       "      <td>16014</td>\n",
       "      <td>IDC_regular_ps50_idx5/16014/0/16014_idx5_x551_...</td>\n",
       "      <td>0</td>\n",
       "    </tr>\n",
       "    <tr>\n",
       "      <th>4</th>\n",
       "      <td>16014</td>\n",
       "      <td>IDC_regular_ps50_idx5/16014/0/16014_idx5_x1851...</td>\n",
       "      <td>0</td>\n",
       "    </tr>\n",
       "  </tbody>\n",
       "</table>\n",
       "</div>"
      ],
      "text/plain": [
       "  patient_id                                               path target\n",
       "0      16014  IDC_regular_ps50_idx5/16014/0/16014_idx5_x401_...      0\n",
       "1      16014  IDC_regular_ps50_idx5/16014/0/16014_idx5_x1601...      0\n",
       "2      16014  IDC_regular_ps50_idx5/16014/0/16014_idx5_x1601...      0\n",
       "3      16014  IDC_regular_ps50_idx5/16014/0/16014_idx5_x551_...      0\n",
       "4      16014  IDC_regular_ps50_idx5/16014/0/16014_idx5_x1851...      0"
      ]
     },
     "metadata": {},
     "output_type": "display_data"
    },
    {
     "data": {
      "text/html": [
       "<div>\n",
       "<style scoped>\n",
       "    .dataframe tbody tr th:only-of-type {\n",
       "        vertical-align: middle;\n",
       "    }\n",
       "\n",
       "    .dataframe tbody tr th {\n",
       "        vertical-align: top;\n",
       "    }\n",
       "\n",
       "    .dataframe thead th {\n",
       "        text-align: right;\n",
       "    }\n",
       "</style>\n",
       "<table border=\"1\" class=\"dataframe\">\n",
       "  <thead>\n",
       "    <tr style=\"text-align: right;\">\n",
       "      <th></th>\n",
       "      <th>patient_id</th>\n",
       "      <th>nrPos</th>\n",
       "      <th>nrNeg</th>\n",
       "    </tr>\n",
       "  </thead>\n",
       "  <tbody>\n",
       "    <tr>\n",
       "      <th>0</th>\n",
       "      <td>16014</td>\n",
       "      <td>209</td>\n",
       "      <td>497</td>\n",
       "    </tr>\n",
       "    <tr>\n",
       "      <th>1</th>\n",
       "      <td>10261</td>\n",
       "      <td>56</td>\n",
       "      <td>590</td>\n",
       "    </tr>\n",
       "    <tr>\n",
       "      <th>2</th>\n",
       "      <td>16553</td>\n",
       "      <td>353</td>\n",
       "      <td>327</td>\n",
       "    </tr>\n",
       "    <tr>\n",
       "      <th>3</th>\n",
       "      <td>13688</td>\n",
       "      <td>127</td>\n",
       "      <td>215</td>\n",
       "    </tr>\n",
       "    <tr>\n",
       "      <th>4</th>\n",
       "      <td>9076</td>\n",
       "      <td>159</td>\n",
       "      <td>832</td>\n",
       "    </tr>\n",
       "  </tbody>\n",
       "</table>\n",
       "</div>"
      ],
      "text/plain": [
       "  patient_id nrPos nrNeg\n",
       "0      16014   209   497\n",
       "1      10261    56   590\n",
       "2      16553   353   327\n",
       "3      13688   127   215\n",
       "4       9076   159   832"
      ]
     },
     "metadata": {},
     "output_type": "display_data"
    }
   ],
   "source": [
    "display(data.head())\n",
    "display(patientData.head())"
   ]
  },
  {
   "cell_type": "code",
   "execution_count": 38,
   "id": "2dfee79a",
   "metadata": {},
   "outputs": [
    {
     "name": "stdout",
     "output_type": "stream",
     "text": [
      "X_data shape:  (277524, 50, 50, 3)\n",
      "y_data shape:  (277524,)\n",
      "In total 2302 patches had to be resized, since the format differed from 50x50\n"
     ]
    }
   ],
   "source": [
    "X_data=[]\n",
    "y_data=[]\n",
    "resized = 0\n",
    "\n",
    "for index, row in data[:].iterrows():\n",
    "    image = PIL.Image.open(row['path'])\n",
    "    npImage = np.asarray(image)\n",
    "    \n",
    "    # Resize images with format different than our 50x50 patches\n",
    "    if npImage.shape != (50, 50, 3):\n",
    "        resized += 1\n",
    "        image = image.resize((50, 50))\n",
    "        npImage = np.asarray(image)\n",
    "    X_data.append(npImage)\n",
    "    y_data.append(row['target'])\n",
    "    \n",
    "    \n",
    "print('X_data shape: ', np.array(X_data).shape)\n",
    "print('y_data shape: ', np.array(y_data).shape)\n",
    "\n",
    "print('In total %d patches had to be resized, since the format differed from 50x50'%resized)"
   ]
  },
  {
   "cell_type": "markdown",
   "id": "7eafb596",
   "metadata": {},
   "source": [
    "## Exploratory data analysis"
   ]
  },
  {
   "cell_type": "code",
   "execution_count": 24,
   "id": "070d4cda",
   "metadata": {},
   "outputs": [
    {
     "data": {
      "text/plain": [
       "0.7161110390452717"
      ]
     },
     "execution_count": 24,
     "metadata": {},
     "output_type": "execute_result"
    }
   ],
   "source": [
    "sum(patientData['nrPos']), sum(patientData['nrNeg'])\n",
    "\n",
    "sum(patientData['nrNeg']) / (sum(patientData['nrPos']) + sum(patientData['nrNeg']))"
   ]
  },
  {
   "cell_type": "code",
   "execution_count": 10,
   "id": "d8c5ee1b",
   "metadata": {},
   "outputs": [
    {
     "data": {
      "image/png": "[encoded data removed]",
      "text/plain": [
       "<Figure size 432x288 with 1 Axes>"
      ]
     },
     "metadata": {
      "needs_background": "light"
     },
     "output_type": "display_data"
    }
   ],
   "source": [
    "ax = matplotlib.pyplot\n",
    "ax.boxplot([patientData.nrPos, patientData.nrNeg], labels=['pos', 'neg'])\n",
    "ax.title('Number of pos & neg patches per client')\n",
    "ax.xticks=([1, 2], ['pos', 'neg'])"
   ]
  },
  {
   "cell_type": "code",
   "execution_count": 11,
   "id": "a3bff155",
   "metadata": {},
   "outputs": [
    {
     "data": {
      "text/plain": [
       "[]"
      ]
     },
     "execution_count": 11,
     "metadata": {},
     "output_type": "execute_result"
    },
    {
     "data": {
      "image/png": "[encoded data removed]",
      "text/plain": [
       "<Figure size 720x216 with 2 Axes>"
      ]
     },
     "metadata": {
      "needs_background": "light"
     },
     "output_type": "display_data"
    }
   ],
   "source": [
    "f = matplotlib.pyplot.figure(figsize=(10,3))\n",
    "\n",
    "ax = f.add_subplot(121, ylim=(0, 25), ylabel='number of patients', xlabel='number of positive patches', xlim=(0, 2300), title='Hist of number of pos patches')\n",
    "ax2 = f.add_subplot(122, ylim=(0, 25), xlabel='number of negative patches', xlim=(0, 2300), title='Hist of number of neg patches')\n",
    "\n",
    "ax.hist(patientData.nrPos, bins=50, alpha=.6, color='g')\n",
    "ax2.hist(patientData.nrNeg, bins=50, alpha=.4, color='r')\n",
    "\n",
    "matplotlib.pyplot.plot()"
   ]
  },
  {
   "cell_type": "markdown",
   "id": "ee609c1e",
   "metadata": {},
   "source": [
    "### Learnings\n",
    "* The data of positive and negative samples is unbalanced, where patients have more negative patches than positive ones\n",
    "* This could lead to an imbalanced result where we classify more patches as negative, which would be a severe mistake in cancer detection. A confusion matrix should be sufficient so verify this concern, when the model is trained"
   ]
  },
  {
   "cell_type": "code",
   "execution_count": 12,
   "id": "d293eb3d",
   "metadata": {},
   "outputs": [
    {
     "name": "stdout",
     "output_type": "stream",
     "text": [
      "((161889, 50, 50, 3), (161889,))\n",
      "((69381, 50, 50, 3), (69381,))\n",
      "((46254, 50, 50, 3), (46254,))\n"
     ]
    },
    {
     "data": {
      "text/plain": [
       "(50, 50, 3)"
      ]
     },
     "execution_count": 12,
     "metadata": {},
     "output_type": "execute_result"
    }
   ],
   "source": [
    "#Train-validation-test split\n",
    "\n",
    "x_train,x_test,y_train,y_test=train_test_split(np.asarray(X_data),np.asarray(y_data),test_size=1/6)\n",
    "\n",
    "x_train,x_val,y_train,y_val=train_test_split(x_train,y_train,test_size=.3)\n",
    "\n",
    "#Dimension of the kaggle dataset\n",
    "print((x_train.shape,y_train.shape))\n",
    "print((x_val.shape,y_val.shape))\n",
    "print((x_test.shape,y_test.shape))\n",
    "\n",
    "input_shape=x_train.shape[1:]\n",
    "input_shape"
   ]
  },
  {
   "cell_type": "markdown",
   "id": "37615ac2",
   "metadata": {},
   "source": [
    "### Simple Neural Network \n",
    "\n",
    "As a first network we:\n",
    "- Flatten the input from the images\n",
    "- Use one hidden layer with 64 neurons and a sigmoid activation function\n",
    "- Use one sigmoid activation function for the ouput layer"
   ]
  },
  {
   "cell_type": "code",
   "execution_count": 51,
   "id": "9ec31335",
   "metadata": {},
   "outputs": [
    {
     "name": "stdout",
     "output_type": "stream",
     "text": [
      "Epoch 1/10\n",
      "36/36 [==============================] - 3s 76ms/step - loss: 0.6095 - accuracy: 0.7122 - val_loss: 0.6007 - val_accuracy: 0.7097\n",
      "Epoch 2/10\n",
      "36/36 [==============================] - 3s 71ms/step - loss: 0.5976 - accuracy: 0.7120 - val_loss: 0.5908 - val_accuracy: 0.7097\n",
      "Epoch 3/10\n",
      "36/36 [==============================] - 3s 74ms/step - loss: 0.5886 - accuracy: 0.7134 - val_loss: 0.5873 - val_accuracy: 0.7099\n",
      "Epoch 4/10\n",
      "36/36 [==============================] - 3s 75ms/step - loss: 0.5845 - accuracy: 0.7149 - val_loss: 0.5858 - val_accuracy: 0.7105\n",
      "Epoch 5/10\n",
      "36/36 [==============================] - 3s 75ms/step - loss: 0.5821 - accuracy: 0.7159 - val_loss: 0.5845 - val_accuracy: 0.7108\n",
      "Epoch 6/10\n",
      "36/36 [==============================] - 3s 82ms/step - loss: 0.5807 - accuracy: 0.7157 - val_loss: 0.5831 - val_accuracy: 0.7108\n",
      "Epoch 7/10\n",
      "36/36 [==============================] - 3s 75ms/step - loss: 0.5789 - accuracy: 0.7159 - val_loss: 0.5817 - val_accuracy: 0.7112\n",
      "Epoch 8/10\n",
      "36/36 [==============================] - 3s 76ms/step - loss: 0.5788 - accuracy: 0.7146 - val_loss: 0.5806 - val_accuracy: 0.7111\n",
      "Epoch 9/10\n",
      "36/36 [==============================] - 3s 74ms/step - loss: 0.5777 - accuracy: 0.7155 - val_loss: 0.5794 - val_accuracy: 0.7115\n",
      "Epoch 10/10\n",
      "36/36 [==============================] - 3s 77ms/step - loss: 0.5770 - accuracy: 0.7141 - val_loss: 0.5779 - val_accuracy: 0.7112\n"
     ]
    }
   ],
   "source": [
    "batch_size = 4096\n",
    "epochs = 10\n",
    "\n",
    "name=\"Simple-1-layer-network\"\n",
    "model = keras.Sequential(\n",
    "    [\n",
    "        keras.Input(shape=input_shape),\n",
    "        keras.layers.Flatten(),        \n",
    "        keras.layers.Dense(64, activation='sigmoid'),\n",
    "        keras.layers.Dense(1, activation='sigmoid')\n",
    "    ],name=name\n",
    ")\n",
    "\n",
    "model.compile(loss=\"binary_crossentropy\", optimizer=SGD(learning_rate=0.0001), metrics=[\"accuracy\"])\n",
    "\n",
    "history=model.fit(x_train, y_train, batch_size=batch_size, epochs=epochs, validation_split=0.1)"
   ]
  },
  {
   "cell_type": "code",
   "execution_count": 49,
   "id": "e6511473",
   "metadata": {},
   "outputs": [
    {
     "name": "stdout",
     "output_type": "stream",
     "text": [
      "Epoch 1/50\n",
      "72/72 [==============================] - 4s 56ms/step - loss: 58.1024 - accuracy: 0.6405 - val_loss: 0.5952 - val_accuracy: 0.7105\n",
      "Epoch 2/50\n",
      "72/72 [==============================] - 4s 61ms/step - loss: 0.5810 - accuracy: 0.7144 - val_loss: 0.5762 - val_accuracy: 0.7112\n",
      "Epoch 3/50\n",
      "72/72 [==============================] - 4s 59ms/step - loss: 0.5674 - accuracy: 0.7162 - val_loss: 0.5740 - val_accuracy: 0.7115\n",
      "Epoch 4/50\n",
      "72/72 [==============================] - 4s 60ms/step - loss: 0.5656 - accuracy: 0.7157 - val_loss: 0.5750 - val_accuracy: 0.7118\n",
      "Epoch 5/50\n",
      "72/72 [==============================] - 4s 61ms/step - loss: 0.5638 - accuracy: 0.7157 - val_loss: 0.5703 - val_accuracy: 0.7118\n",
      "Epoch 6/50\n",
      "72/72 [==============================] - 4s 61ms/step - loss: 0.5606 - accuracy: 0.7161 - val_loss: 0.5653 - val_accuracy: 0.7117\n",
      "Epoch 7/50\n",
      "72/72 [==============================] - 4s 61ms/step - loss: 0.5567 - accuracy: 0.7162 - val_loss: 0.5630 - val_accuracy: 0.7117\n",
      "Epoch 8/50\n",
      "72/72 [==============================] - 5s 64ms/step - loss: 0.5551 - accuracy: 0.7155 - val_loss: 0.5579 - val_accuracy: 0.7118\n",
      "Epoch 9/50\n",
      "72/72 [==============================] - 5s 64ms/step - loss: 0.5515 - accuracy: 0.7165 - val_loss: 0.5573 - val_accuracy: 0.7118\n",
      "Epoch 10/50\n",
      "72/72 [==============================] - 5s 64ms/step - loss: 0.5455 - accuracy: 0.7197 - val_loss: 0.5533 - val_accuracy: 0.7122\n",
      "Epoch 11/50\n",
      "72/72 [==============================] - 4s 58ms/step - loss: 0.5423 - accuracy: 0.7224 - val_loss: 0.5449 - val_accuracy: 0.7146\n",
      "Epoch 12/50\n",
      "72/72 [==============================] - 5s 63ms/step - loss: 0.5394 - accuracy: 0.7242 - val_loss: 0.5401 - val_accuracy: 0.7190\n",
      "Epoch 13/50\n",
      "72/72 [==============================] - 4s 62ms/step - loss: 0.5334 - accuracy: 0.7280 - val_loss: 0.5371 - val_accuracy: 0.7210\n",
      "Epoch 14/50\n",
      "72/72 [==============================] - 4s 57ms/step - loss: 0.5322 - accuracy: 0.7317 - val_loss: 0.5322 - val_accuracy: 0.7257\n",
      "Epoch 15/50\n",
      "72/72 [==============================] - 4s 61ms/step - loss: 0.5268 - accuracy: 0.7353 - val_loss: 0.5289 - val_accuracy: 0.7321\n",
      "Epoch 16/50\n",
      "72/72 [==============================] - 4s 61ms/step - loss: 0.5225 - accuracy: 0.7397 - val_loss: 0.5244 - val_accuracy: 0.7337\n",
      "Epoch 17/50\n",
      "72/72 [==============================] - 4s 60ms/step - loss: 0.5202 - accuracy: 0.7425 - val_loss: 0.5203 - val_accuracy: 0.7396\n",
      "Epoch 18/50\n",
      "72/72 [==============================] - 4s 59ms/step - loss: 0.5147 - accuracy: 0.7467 - val_loss: 0.5229 - val_accuracy: 0.7362\n",
      "Epoch 19/50\n",
      "72/72 [==============================] - 4s 61ms/step - loss: 0.5138 - accuracy: 0.7470 - val_loss: 0.5172 - val_accuracy: 0.7405\n",
      "Epoch 20/50\n",
      "72/72 [==============================] - 4s 62ms/step - loss: 0.5093 - accuracy: 0.7505 - val_loss: 0.5106 - val_accuracy: 0.7491\n",
      "Epoch 21/50\n",
      "72/72 [==============================] - 5s 66ms/step - loss: 0.5070 - accuracy: 0.7537 - val_loss: 0.5079 - val_accuracy: 0.7521\n",
      "Epoch 22/50\n",
      "72/72 [==============================] - 4s 62ms/step - loss: 0.5049 - accuracy: 0.7561 - val_loss: 0.5085 - val_accuracy: 0.7498\n",
      "Epoch 23/50\n",
      "72/72 [==============================] - 4s 62ms/step - loss: 0.5040 - accuracy: 0.7576 - val_loss: 0.5044 - val_accuracy: 0.7565\n",
      "Epoch 24/50\n",
      "72/72 [==============================] - 4s 62ms/step - loss: 0.4983 - accuracy: 0.7633 - val_loss: 0.5004 - val_accuracy: 0.7595\n",
      "Epoch 25/50\n",
      "72/72 [==============================] - 4s 58ms/step - loss: 0.4951 - accuracy: 0.7645 - val_loss: 0.5007 - val_accuracy: 0.7602\n",
      "Epoch 26/50\n",
      "72/72 [==============================] - 4s 58ms/step - loss: 0.4926 - accuracy: 0.7674 - val_loss: 0.4963 - val_accuracy: 0.7628\n",
      "Epoch 27/50\n",
      "72/72 [==============================] - 5s 64ms/step - loss: 0.4938 - accuracy: 0.7682 - val_loss: 0.4944 - val_accuracy: 0.7654\n",
      "Epoch 28/50\n",
      "72/72 [==============================] - 4s 53ms/step - loss: 0.4915 - accuracy: 0.7674 - val_loss: 0.4926 - val_accuracy: 0.7668\n",
      "Epoch 29/50\n",
      "72/72 [==============================] - 5s 63ms/step - loss: 0.4881 - accuracy: 0.7712 - val_loss: 0.4915 - val_accuracy: 0.7672\n",
      "Epoch 30/50\n",
      "72/72 [==============================] - 5s 63ms/step - loss: 0.4906 - accuracy: 0.7706 - val_loss: 0.4922 - val_accuracy: 0.7674\n",
      "Epoch 31/50\n",
      "72/72 [==============================] - 4s 58ms/step - loss: 0.4851 - accuracy: 0.7742 - val_loss: 0.4882 - val_accuracy: 0.7708\n",
      "Epoch 32/50\n",
      "72/72 [==============================] - 4s 60ms/step - loss: 0.4846 - accuracy: 0.7749 - val_loss: 0.4879 - val_accuracy: 0.7706\n",
      "Epoch 33/50\n",
      "72/72 [==============================] - 4s 57ms/step - loss: 0.4823 - accuracy: 0.7757 - val_loss: 0.4858 - val_accuracy: 0.7727\n",
      "Epoch 34/50\n",
      "72/72 [==============================] - 4s 55ms/step - loss: 0.4818 - accuracy: 0.7773 - val_loss: 0.4845 - val_accuracy: 0.7735\n",
      "Epoch 35/50\n",
      "72/72 [==============================] - 4s 61ms/step - loss: 0.4816 - accuracy: 0.7781 - val_loss: 0.4831 - val_accuracy: 0.7752\n",
      "Epoch 36/50\n",
      "72/72 [==============================] - 4s 59ms/step - loss: 0.4787 - accuracy: 0.7795 - val_loss: 0.4830 - val_accuracy: 0.7757\n",
      "Epoch 37/50\n",
      "72/72 [==============================] - 5s 64ms/step - loss: 0.4782 - accuracy: 0.7788 - val_loss: 0.4842 - val_accuracy: 0.7750\n",
      "Epoch 38/50\n",
      "72/72 [==============================] - 4s 60ms/step - loss: 0.4762 - accuracy: 0.7810 - val_loss: 0.4823 - val_accuracy: 0.7768\n",
      "Epoch 39/50\n",
      "72/72 [==============================] - 4s 59ms/step - loss: 0.4771 - accuracy: 0.7803 - val_loss: 0.4828 - val_accuracy: 0.7769\n",
      "Epoch 40/50\n",
      "72/72 [==============================] - 4s 61ms/step - loss: 0.4743 - accuracy: 0.7835 - val_loss: 0.4798 - val_accuracy: 0.7780\n",
      "Epoch 41/50\n",
      "72/72 [==============================] - 5s 64ms/step - loss: 0.4743 - accuracy: 0.7823 - val_loss: 0.4797 - val_accuracy: 0.7795\n",
      "Epoch 42/50\n",
      "72/72 [==============================] - 5s 65ms/step - loss: 0.4736 - accuracy: 0.7838 - val_loss: 0.4784 - val_accuracy: 0.7795\n",
      "Epoch 43/50\n",
      "72/72 [==============================] - 5s 66ms/step - loss: 0.4731 - accuracy: 0.7831 - val_loss: 0.4777 - val_accuracy: 0.7799\n",
      "Epoch 44/50\n",
      "72/72 [==============================] - 4s 61ms/step - loss: 0.4763 - accuracy: 0.7822 - val_loss: 0.4808 - val_accuracy: 0.7795\n",
      "Epoch 45/50\n",
      "72/72 [==============================] - 5s 63ms/step - loss: 0.4699 - accuracy: 0.7860 - val_loss: 0.4838 - val_accuracy: 0.7792\n",
      "Epoch 46/50\n",
      "72/72 [==============================] - 5s 63ms/step - loss: 0.4722 - accuracy: 0.7853 - val_loss: 0.4743 - val_accuracy: 0.7845\n",
      "Epoch 47/50\n",
      "72/72 [==============================] - 4s 61ms/step - loss: 0.4705 - accuracy: 0.7850 - val_loss: 0.4762 - val_accuracy: 0.7815\n",
      "Epoch 48/50\n",
      "72/72 [==============================] - 4s 60ms/step - loss: 0.4682 - accuracy: 0.7881 - val_loss: 0.4723 - val_accuracy: 0.7848\n",
      "Epoch 49/50\n",
      "72/72 [==============================] - 5s 68ms/step - loss: 0.4697 - accuracy: 0.7872 - val_loss: 0.4717 - val_accuracy: 0.7855\n",
      "Epoch 50/50\n",
      "72/72 [==============================] - 4s 62ms/step - loss: 0.4682 - accuracy: 0.7891 - val_loss: 0.4715 - val_accuracy: 0.7856\n"
     ]
    }
   ],
   "source": [
    "batch_size = 2048\n",
    "epochs = 50\n",
    "\n",
    "name=\"Simple-1-layer-network\"\n",
    "model = keras.Sequential(\n",
    "    [\n",
    "        keras.Input(shape=input_shape),\n",
    "        keras.layers.Flatten(),        \n",
    "        keras.layers.Dense(64, activation='relu'),\n",
    "        keras.layers.Dense(128, activation='relu'),\n",
    "        keras.layers.Dense(1, activation='sigmoid')\n",
    "    ],name=name\n",
    ")\n",
    "\n",
    "model.compile(loss=\"binary_crossentropy\", optimizer=SGD(learning_rate=0.0001), metrics=[\"accuracy\"])\n",
    "\n",
    "history=model.fit(x_train, y_train, batch_size=batch_size, epochs=epochs, validation_split=0.1)"
   ]
  },
  {
   "cell_type": "code",
   "execution_count": 50,
   "id": "62b19711",
   "metadata": {},
   "outputs": [
    {
     "name": "stdout",
     "output_type": "stream",
     "text": [
      "Model: \"Simple-1-layer-network\"\n",
      "_________________________________________________________________\n",
      "Layer (type)                 Output Shape              Param #   \n",
      "=================================================================\n",
      "flatten_4 (Flatten)          (None, 7500)              0         \n",
      "_________________________________________________________________\n",
      "dense_10 (Dense)             (None, 64)                480064    \n",
      "_________________________________________________________________\n",
      "dense_11 (Dense)             (None, 128)               8320      \n",
      "_________________________________________________________________\n",
      "dense_12 (Dense)             (None, 1)                 129       \n",
      "=================================================================\n",
      "Total params: 488,513\n",
      "Trainable params: 488,513\n",
      "Non-trainable params: 0\n",
      "_________________________________________________________________\n"
     ]
    },
    {
     "data": {
      "image/png": "[encoded data removed]",
      "text/plain": [
       "<Figure size 432x288 with 1 Axes>"
      ]
     },
     "metadata": {
      "needs_background": "light"
     },
     "output_type": "display_data"
    }
   ],
   "source": [
    "model.summary()\n",
    "# list all data in history\n",
    "# print(history.history.keys())\n",
    "# summarize history for accuracy\n",
    "plt.plot(history.history['accuracy'])\n",
    "plt.plot(history.history['val_accuracy'])\n",
    "plt.plot(history.history['loss'][1:])\n",
    "plt.plot(history.history['val_loss'])\n",
    "plt.xlabel('epoch')\n",
    "plt.legend(['train_acc', 'test_acc', 'train_loss', 'test_loss'], loc='upper left')\n",
    "plt.show()\n",
    "# summarize history for loss\n",
    "# plt.plot(history.history['loss'])\n",
    "# plt.plot(history.history['val_loss'])\n",
    "# plt.title('model loss')\n",
    "# plt.ylabel('loss')\n",
    "# plt.xlabel('epoch')\n",
    "# plt.legend(['train', 'test', 'train', 'test'], loc='upper left')\n",
    "# plt.show()"
   ]
  },
  {
   "cell_type": "code",
   "execution_count": null,
   "id": "a2d63585",
   "metadata": {},
   "outputs": [],
   "source": []
  },
  {
   "cell_type": "code",
   "execution_count": null,
   "id": "729a16ae",
   "metadata": {},
   "outputs": [],
   "source": []
  },
  {
   "cell_type": "code",
   "execution_count": null,
   "id": "31473cf6",
   "metadata": {},
   "outputs": [],
   "source": []
  },
  {
   "cell_type": "code",
   "execution_count": null,
   "id": "2d11a5f1",
   "metadata": {},
   "outputs": [],
   "source": []
  },
  {
   "cell_type": "code",
   "execution_count": null,
   "id": "9cf320eb",
   "metadata": {},
   "outputs": [],
   "source": [
    "#Image Data Augmentation\n",
    "\n",
    "train_generator = ImageDataGenerator(rotation_range=20, horizontal_flip=True, vertical_flip=True)\n",
    "\n",
    "val_generator = ImageDataGenerator(rotation_range=20, horizontal_flip=True, vertical_flip=True)\n",
    "\n",
    "train_generator.fit(x_train)\n",
    "val_generator.fit(x_val)"
   ]
  },
  {
   "cell_type": "code",
   "execution_count": null,
   "id": "8516d948",
   "metadata": {},
   "outputs": [],
   "source": [
    "#Learning Rate Annealer\n",
    "lrr = ReduceLROnPlateau(monitor='val_accuracy',\n",
    "                       factor=.1,\n",
    "                       patience=3,\n",
    "                       min_lr=1e-8,\n",
    "                       verbose=2)\n",
    "\n",
    "\n",
    "#Early stopping callback\n",
    "es = tf.keras.callbacks.EarlyStopping(monitor='val_accuracy', patience=5, verbose=2,\n",
    "                                      mode='auto', baseline=None, restore_best_weights=True)"
   ]
  },
  {
   "cell_type": "code",
   "execution_count": null,
   "id": "221e4a7b",
   "metadata": {},
   "outputs": [],
   "source": [
    "name=\"5x5ConvX2-3x3ConvX2_512DenseWith0.2DropoutX2\"\n",
    "model = keras.Sequential(\n",
    "    [\n",
    "        keras.Input(shape=input_shape),\n",
    "        \n",
    "        layers.Conv2D(64,kernel_size=(5,5),activation='relu'),\n",
    "        layers.BatchNormalization(),\n",
    "        layers.Conv2D(64,kernel_size=(5,5),activation='relu'),\n",
    "        layers.BatchNormalization(),\n",
    "        layers.MaxPooling2D(pool_size=(2,2)),\n",
    "        \n",
    "        layers.Conv2D(64,kernel_size=(3,3),activation='relu'),\n",
    "        layers.BatchNormalization(),\n",
    "        layers.Conv2D(64,kernel_size=(3,3),activation='relu'),\n",
    "        layers.BatchNormalization(),\n",
    "        layers.MaxPooling2D(pool_size=(2,2)),\n",
    "\n",
    "        layers.Flatten(),\n",
    "        layers.Dense(1024,activation='relu'),\n",
    "        layers.Dropout(0.4),\n",
    "        layers.Dense(1024,activation='relu'),\n",
    "        layers.Dropout(0.4),\n",
    "\n",
    "        layers.Dense(1, activation='sigmoid')    \n",
    "    \n",
    "    ],name=name\n",
    ")"
   ]
  },
  {
   "cell_type": "code",
   "execution_count": null,
   "id": "2cf5e619",
   "metadata": {},
   "outputs": [],
   "source": [
    "model.summary()"
   ]
  },
  {
   "cell_type": "code",
   "execution_count": null,
   "id": "80775315",
   "metadata": {},
   "outputs": [],
   "source": [
    "batch_size = 128\n",
    "epochs = 50\n",
    "\n",
    "model.compile(loss=\"binary_crossentropy\", optimizer=Adam(epsilon=1e-07, learning_rate=0.001), metrics=[\"accuracy\"])\n",
    "\n",
    "history=model.fit(x_train, y_train, batch_size=batch_size, epochs=epochs, validation_split=0.1,callbacks=[es, lrr])"
   ]
  },
  {
   "cell_type": "code",
   "execution_count": null,
   "id": "e58c21bb",
   "metadata": {},
   "outputs": [],
   "source": [
    "from tensorflow import keras\n",
    "from tensorflow.keras.regularizers import l2\n",
    "\n",
    "input = tf.keras.Input(shape=input_shape)\n",
    "beforeModel = tf.keras.layers.UpSampling2D()(input)\n",
    "beforeModel = tf.keras.layers.UpSampling2D()(beforeModel)\n",
    "#beforeModel = tf.keras.layers.UpSampling2D()(beforeModel)\n",
    "print(beforeModel)\n",
    "resnet = tf.keras.applications.ResNet50(include_top=False,weights='imagenet',input_shape=(200,200,3))\n",
    "resnet.trainable=False\n",
    "\n",
    "x = resnet(beforeModel,training=False)\n",
    "x = keras.layers.Flatten()(x)\n",
    "\n",
    "x = keras.layers.BatchNormalization()(x)\n",
    "x = keras.layers.Dense(1024,\n",
    "                       kernel_regularizer=l2(0.001),\n",
    "                       bias_regularizer=l2(0.001),\n",
    "                       activation='relu')(x) # dense layer 1 \n",
    "'''\n",
    "x = keras.layers.Dropout(0.3)(x)\n",
    "\n",
    "x = keras.layers.BatchNormalization()(x)\n",
    "x = keras.layers.Dense(1024,\n",
    "                       activation='relu',\n",
    "                       kernel_regularizer=l2(0.001),\n",
    "                       bias_regularizer=l2(0.001))(x) # dense layer 2\n",
    "x = keras.layers.Dropout(0.2)(x) \n",
    "'''\n",
    "\n",
    "output = keras.layers.Dense(units=1, activation='sigmoid')(x)"
   ]
  },
  {
   "cell_type": "code",
   "execution_count": null,
   "id": "874567c9",
   "metadata": {
    "scrolled": true
   },
   "outputs": [],
   "source": [
    "model = keras.Model(inputs = input, outputs = output)\n",
    "model.summary()"
   ]
  },
  {
   "cell_type": "code",
   "execution_count": null,
   "id": "87ec9364",
   "metadata": {},
   "outputs": [],
   "source": [
    "model.compile(loss=\"binary_crossentropy\", optimizer=Adam(epsilon=0.1, learning_rate=0.001), metrics=[\"accuracy\"])\n",
    "log_dir= os.path.join('logs','ResNet50',datetime.datetime.now().strftime(\"%Y%m%d-%H%M%S\"),'')\n",
    "\n",
    "# tensorboard_callback = TensorBoard(log_dir=log_dir, histogram_freq=1)\n",
    "\n",
    "history=model.fit(train_generator.flow(x_train, y_train),\n",
    "                  batch_size=batch_size, epochs=epochs,\n",
    "                  validation_data=val_generator.flow(x_val, y_val),\n",
    "                  callbacks=[es, lrr]) "
   ]
  },
  {
   "cell_type": "code",
   "execution_count": null,
   "id": "0a76e2b3",
   "metadata": {},
   "outputs": [],
   "source": []
  }
 ],
 "metadata": {
  "kernelspec": {
   "display_name": "Python 3",
   "language": "python",
   "name": "python3"
  },
  "language_info": {
   "codemirror_mode": {
    "name": "ipython",
    "version": 3
   },
   "file_extension": ".py",
   "mimetype": "text/x-python",
   "name": "python",
   "nbconvert_exporter": "python",
   "pygments_lexer": "ipython3",
   "version": "3.9.5"
  }
 },
 "nbformat": 4,
 "nbformat_minor": 5
}
