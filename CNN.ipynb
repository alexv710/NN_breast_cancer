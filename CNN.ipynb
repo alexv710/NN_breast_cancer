{
 "cells": [
  {
   "cell_type": "code",
   "execution_count": 28,
   "metadata": {},
   "outputs": [],
   "source": [
    "import IPython\n",
    "import pandas as pd\n",
    "import numpy as np\n",
    "import datetime\n",
    "import pickle\n",
    "import sklearn\n",
    "import seaborn as sn\n",
    "import pandas\n",
    "\n",
    "# used to access folder structures\n",
    "import os\n",
    "\n",
    "# used to open images\n",
    "import PIL\n",
    "\n",
    "# Graphs, visualizations\n",
    "import matplotlib.pyplot\n",
    "import matplotlib.pyplot as plt\n",
    "from IPython.display import display, HTML\n",
    "import scipy\n",
    "\n",
    "import tensorflow as tf\n",
    "from tensorflow import keras\n",
    "from tensorflow.keras.regularizers import l2\n",
    "# For Image Data Augmentation\n",
    "\n",
    "from tensorflow.keras.preprocessing.image import ImageDataGenerator\n",
    "\n",
    "from tensorflow.keras.callbacks import ReduceLROnPlateau\n",
    "from tensorflow.keras.layers import Flatten, Dense, BatchNormalization, Activation, Dropout\n",
    "from tensorflow.keras import layers\n",
    "from keras.optimizers import Adam, SGD\n",
    "\n",
    "\n",
    "from sklearn.model_selection import train_test_split"
   ]
  },
  {
   "cell_type": "code",
   "execution_count": 2,
   "metadata": {},
   "outputs": [
    {
     "name": "stdout",
     "output_type": "stream",
     "text": [
      "Device mapping:\n",
      "/job:localhost/replica:0/task:0/device:XLA_CPU:0 -> device: XLA_CPU device\n",
      "/job:localhost/replica:0/task:0/device:GPU:0 -> device: 0, name: NVIDIA GeForce GTX 1080 Ti, pci bus id: 0000:01:00.0, compute capability: 6.1\n",
      "/job:localhost/replica:0/task:0/device:XLA_GPU:0 -> device: XLA_GPU device\n",
      "\n"
     ]
    }
   ],
   "source": [
    "import tensorflow as tf\n",
    "from tensorflow.compat.v1.keras.backend import set_session\n",
    "config = tf.compat.v1.ConfigProto()\n",
    "config.gpu_options.allow_growth = True  # dynamically grow the memory used on the GPU\n",
    "config.log_device_placement = True  # to log device placement (on which device the operation ran)\n",
    "sess = tf.compat.v1.Session(config=config)\n",
    "set_session(sess)"
   ]
  },
  {
   "cell_type": "code",
   "execution_count": 3,
   "metadata": {},
   "outputs": [],
   "source": [
    "# Import Data From Pickle file\n",
    "\n",
    "with open('y.pickle', 'rb') as f:\n",
    "    y_data = pickle.load(f)\n",
    "f.close()\n",
    "with open('X.pickle', 'rb') as f:\n",
    "    X_data = pickle.load(f)\n",
    "f.close()"
   ]
  },
  {
   "cell_type": "code",
   "execution_count": 4,
   "metadata": {},
   "outputs": [
    {
     "name": "stdout",
     "output_type": "stream",
     "text": [
      "(166514, 50, 50, 3) (166514,) 0.7144444310988866\n",
      "(55505, 50, 50, 3) (55505,) 0.7182415998558689\n",
      "(55505, 50, 50, 3) (55505,) 0.7189802720475633\n"
     ]
    },
    {
     "data": {
      "text/plain": [
       "(50, 50, 3)"
      ]
     },
     "execution_count": 4,
     "metadata": {},
     "output_type": "execute_result"
    }
   ],
   "source": [
    "#Train-validation-test split\n",
    "\n",
    "# train test split for validation after training x_test is never touched or looked at during training\n",
    "x_train,x_test,y_train,y_test=sklearn.model_selection.train_test_split(np.asarray(X_data),\n",
    "                                                                       np.asarray(y_data),\n",
    "                                                                       test_size=.2,\n",
    "                                                                       random_state=42)\n",
    "\n",
    "# train test split for validation during training\n",
    "x_train,x_val,y_train,y_val=sklearn.model_selection.train_test_split(x_train,\n",
    "                                                                     y_train,\n",
    "                                                                     test_size=.25,\n",
    "                                                                     random_state=42)\n",
    "\n",
    "#Dimension of the kaggle dataset & percentage of negative patches\n",
    "print(x_train.shape,y_train.shape, 1-sum(y_train)/y_train.shape[0])\n",
    "print(x_test.shape,y_test.shape, 1-sum(y_test)/y_test.shape[0])\n",
    "print(x_val.shape,y_val.shape, 1-sum(y_val)/y_val.shape[0])\n",
    "\n",
    "input_shape=x_train.shape[1:]\n",
    "input_shape"
   ]
  },
  {
   "cell_type": "code",
   "execution_count": 19,
   "metadata": {},
   "outputs": [],
   "source": [
    "def acc_plot(history):\n",
    "    plt.plot(history.history['accuracy'], alpha=.6)\n",
    "    plt.plot(history.history['val_accuracy'], alpha=.6)\n",
    "    plt.xlabel('epoch')\n",
    "    plt.legend(['train_acc', 'val_acc'], loc='upper left')\n",
    "    return plt\n",
    "\n",
    "def loss_plot(history):\n",
    "    plt.plot(history.history['loss'][1:], alpha=.6)\n",
    "    plt.plot(history.history['val_loss'], alpha=.6)\n",
    "    plt.xlabel('epoch')\n",
    "    plt.legend(['train_loss', 'val_loss'], loc='upper left')\n",
    "    return plt\n",
    "def plot_prc(name, labels, predictions, **kwargs):\n",
    "    precision, recall, _ = sklearn.metrics.precision_recall_curve(labels, predictions)\n",
    "\n",
    "    plt.plot(precision, recall, label=name, linewidth=2, **kwargs)\n",
    "    plt.xlabel('Recall')\n",
    "    plt.ylabel('Precision')\n",
    "    plt.grid(True)\n",
    "    ax = plt.gca()\n",
    "    ax.set_aspect('equal')\n",
    "def conf_matrix(model, x_test, y_test):\n",
    "    \n",
    "    y_pred = [1 * (x[0]>=0.5) for x in model.predict(x_test)]\n",
    "\n",
    "    matrix = sklearn.metrics.confusion_matrix(y_test, y_pred)\n",
    "    df_cm = pd.DataFrame(matrix, index = [i for i in ['No Cancer (actual)', 'Cancer (actual)']],\n",
    "                      columns = [i for i in ['predict No Cancer', 'predict Cancer']])\n",
    "    plt.figure(figsize = (10,7))\n",
    "    sn.heatmap(df_cm, annot=True, fmt='d')\n",
    "    return plt\n",
    "\n",
    "def acc_df(histories):\n",
    "    columns = ['model size' ,'loss', 'accuracy', 'val_loss', 'val_accuracy']\n",
    "    df = pd.DataFrame(columns = columns)\n",
    "    for history in histories:\n",
    "    \n",
    "    # get the epoch with the highest validation accuracy for each history element\n",
    "        i = 0\n",
    "        index = 0\n",
    "        comp = 0\n",
    "        for val_acc in history.history['val_accuracy']:\n",
    "            if val_acc > comp:\n",
    "                comp = val_acc\n",
    "                i = index\n",
    "            index += 1\n",
    "\n",
    "        df_temp = pd.DataFrame([[history.model.name,\n",
    "                                  history.history['loss'][i],\n",
    "                                  history.history['accuracy'][i],\n",
    "                                  history.history['val_loss'][i],\n",
    "                                  history.history['val_accuracy'][i]]], \n",
    "                        columns = columns)\n",
    "        df = df.append(df_temp)\n",
    "\n",
    "    df = df.set_index('model size')\n",
    "\n",
    "    df = df.style.format({\n",
    "        'loss': '{:,.2f}'.format,\n",
    "        'accuracy': '{:,.2%}'.format,\n",
    "        'val_loss': '{:,.2f}'.format,\n",
    "        'val_accuracy': '{:,.2%}'.format,\n",
    "    })\n",
    "\n",
    "    return df\n",
    "\n",
    "def plot_accuracies(histories, colors, lower_ylim=.7, upper_ylim=.9, alpha=.6, **kwargs):\n",
    "    \n",
    "    i = 0\n",
    "    colors=colors\n",
    "    \n",
    "    for history in histories:\n",
    "        plt.plot(history.history['accuracy'], alpha=alpha, color=colors[i])\n",
    "        i += 1\n",
    "    plt.xlabel('epoch')\n",
    "    plt.ylabel('train accuracy')\n",
    "    plt.ylim([lower_ylim,upper_ylim])\n",
    "    plt.gca().spines['right'].set_visible(False)\n",
    "    plt.gca().spines['top'].set_visible(False)\n",
    "    plt.legend([hist.model.name for hist in histories], loc='lower right')\n",
    "\n",
    "    plt.show()\n",
    "    i = 0\n",
    "    for history in histories:\n",
    "        plt.plot(history.history['val_accuracy'], alpha=alpha, color=colors[i])\n",
    "        i += 1\n",
    "    plt.xlabel('epoch')\n",
    "    plt.ylabel('test accuracy')\n",
    "    plt.ylim([lower_ylim,upper_ylim])\n",
    "    plt.gca().spines['right'].set_visible(False)\n",
    "    plt.gca().spines['top'].set_visible(False)\n",
    "    plt.legend([hist.model.name for hist in histories], loc='lower right')\n",
    "\n",
    "    plt.show()\n",
    "\n",
    "def prec_rec_df(models):\n",
    "    columns = ['model' ,'precision (cancer positive)', 'recall (cancer positive)']\n",
    "    df = pandas.DataFrame(columns = columns)\n",
    "    for model in models:\n",
    "        matrix = sklearn.metrics.confusion_matrix(y_test, [1 * (x[0]>=0.5) for x in model.predict(x_test)])\n",
    "        precision = matrix[1][1]/(matrix[1][1]+matrix[0][1])\n",
    "        recall = matrix[1][1]/(matrix[1][1]+matrix[1][0])\n",
    "\n",
    "\n",
    "        df = df.append(pandas.DataFrame([[model.name,\n",
    "                                      precision,\n",
    "                                      recall]], \n",
    "                            columns = columns))\n",
    "    df = df.set_index('model')\n",
    "\n",
    "    df = df.style.format({\n",
    "        'precision (cancer positive)': '{:,.2%}'.format,\n",
    "        'recall (cancer positive)': '{:,.2%}'.format})\n",
    "    \n",
    "\n",
    "### Callbacks ###\n",
    "\n",
    "#Early stopping callback\n",
    "es = keras.callbacks.EarlyStopping(monitor='val_accuracy', patience=30, verbose=2,\n",
    "                                      mode='max', baseline=None, restore_best_weights=True)\n",
    "\n",
    "mcp_save = keras.callbacks.ModelCheckpoint('.mdl_wts.hdf5', save_best_only=True, monitor='val_loss', mode='min')\n",
    "\n",
    "#Learning Rate Annealer\n",
    "lrr = keras.callbacks.ReduceLROnPlateau(monitor='val_accuracy',\n",
    "                       factor=.1,\n",
    "                       patience=20,\n",
    "                       min_lr=1e-4,\n",
    "                       verbose=2)"
   ]
  },
  {
   "cell_type": "code",
   "execution_count": 6,
   "metadata": {},
   "outputs": [
    {
     "name": "stdout",
     "output_type": "stream",
     "text": [
      "Weight for class 0: 1.40\n",
      "Weight for class 1: 3.52\n"
     ]
    }
   ],
   "source": [
    "# lower the number of epochs\n",
    "epochs = 150\n",
    "\n",
    "total = np.asarray(y_data).shape[0]\n",
    "pos = sum(np.asarray(y_data))\n",
    "neg = total - pos\n",
    "\n",
    "# Scaling by total/2 helps keep the loss to a similar magnitude.\n",
    "# The sum of the weights of all examples stays the same.\n",
    "# weight_for_0 = (1 / neg) * (total / 2.0)\n",
    "# weight_for_1 = (1 / pos) * (total / 2.0)\n",
    "\n",
    "weight_for_0 = (1 / neg) * total\n",
    "weight_for_1 = (1 / pos) * total\n",
    "\n",
    "class_weight = {0: weight_for_0, 1: weight_for_1}\n",
    "\n",
    "print('Weight for class 0: {:.2f}'.format(weight_for_0))\n",
    "print('Weight for class 1: {:.2f}'.format(weight_for_1))"
   ]
  },
  {
   "cell_type": "markdown",
   "metadata": {},
   "source": [
    "<h1>Simple Convolutional Network</h1>"
   ]
  },
  {
   "cell_type": "markdown",
   "metadata": {},
   "source": [
    "<p> From the dense network notebook we learned, that the learning rate of 0.001 was a good learning rate for the adam optimizer to take for the dense network. The simple convolutional network contain only 1 convolutional layer and a simple dense layer. In the there is only a convolutional layer a a maxpool layer. The activation function for the convolutional layer is ReLu.</p>"
   ]
  },
  {
   "cell_type": "code",
   "execution_count": 7,
   "metadata": {},
   "outputs": [],
   "source": [
    "epochs = 100\n",
    "histories0 = []\n",
    "batch_size = 1024"
   ]
  },
  {
   "cell_type": "code",
   "execution_count": 8,
   "metadata": {},
   "outputs": [
    {
     "name": "stdout",
     "output_type": "stream",
     "text": [
      "Epoch 1/100\n",
      "  1/163 [..............................] - ETA: 0s - loss: 30.1621 - accuracy: 0.2852WARNING:tensorflow:Callbacks method `on_train_batch_end` is slow compared to the batch time (batch time: 0.0124s vs `on_train_batch_end` time: 0.0218s). Check your callbacks.\n",
      "163/163 [==============================] - 6s 38ms/step - loss: 35.4304 - accuracy: 0.6798 - val_loss: 0.6924 - val_accuracy: 0.7189\n",
      "Epoch 2/100\n",
      "163/163 [==============================] - 6s 36ms/step - loss: 1.3888 - accuracy: 0.7144 - val_loss: 0.6931 - val_accuracy: 0.7189\n",
      "Epoch 3/100\n",
      "163/163 [==============================] - 6s 36ms/step - loss: 1.3887 - accuracy: 0.5670 - val_loss: 0.6939 - val_accuracy: 0.2810\n",
      "Epoch 4/100\n",
      "163/163 [==============================] - 6s 36ms/step - loss: 1.3887 - accuracy: 0.2856 - val_loss: 0.6945 - val_accuracy: 0.2810\n",
      "Epoch 5/100\n",
      "163/163 [==============================] - 6s 36ms/step - loss: 1.3887 - accuracy: 0.2856 - val_loss: 0.6945 - val_accuracy: 0.2810\n",
      "Epoch 6/100\n",
      "163/163 [==============================] - 6s 37ms/step - loss: 1.3887 - accuracy: 0.2856 - val_loss: 0.6949 - val_accuracy: 0.2810\n",
      "Epoch 7/100\n",
      "163/163 [==============================] - 6s 37ms/step - loss: 1.3887 - accuracy: 0.2856 - val_loss: 0.6948 - val_accuracy: 0.2810\n",
      "Epoch 8/100\n",
      "163/163 [==============================] - 6s 37ms/step - loss: 1.3887 - accuracy: 0.2856 - val_loss: 0.6949 - val_accuracy: 0.2810\n",
      "Epoch 9/100\n",
      "163/163 [==============================] - 6s 37ms/step - loss: 1.3887 - accuracy: 0.2856 - val_loss: 0.6943 - val_accuracy: 0.2810\n",
      "Epoch 10/100\n",
      "163/163 [==============================] - 6s 37ms/step - loss: 1.3887 - accuracy: 0.2856 - val_loss: 0.6946 - val_accuracy: 0.2810\n",
      "Epoch 11/100\n",
      "163/163 [==============================] - 6s 37ms/step - loss: 1.3887 - accuracy: 0.2856 - val_loss: 0.6953 - val_accuracy: 0.2810\n",
      "Epoch 12/100\n",
      "163/163 [==============================] - 6s 37ms/step - loss: 1.3887 - accuracy: 0.2856 - val_loss: 0.6945 - val_accuracy: 0.2810\n",
      "Epoch 13/100\n",
      "163/163 [==============================] - 6s 37ms/step - loss: 1.3887 - accuracy: 0.2856 - val_loss: 0.6949 - val_accuracy: 0.2810\n",
      "Epoch 14/100\n",
      "163/163 [==============================] - 6s 37ms/step - loss: 1.3887 - accuracy: 0.2856 - val_loss: 0.6945 - val_accuracy: 0.2810\n",
      "Epoch 15/100\n",
      "163/163 [==============================] - 6s 36ms/step - loss: 1.3887 - accuracy: 0.2856 - val_loss: 0.6951 - val_accuracy: 0.2810\n",
      "Epoch 16/100\n",
      "163/163 [==============================] - 6s 37ms/step - loss: 1.3887 - accuracy: 0.2856 - val_loss: 0.6948 - val_accuracy: 0.2810\n",
      "Epoch 17/100\n",
      "163/163 [==============================] - 6s 37ms/step - loss: 1.3887 - accuracy: 0.2856 - val_loss: 0.6950 - val_accuracy: 0.2810\n",
      "Epoch 18/100\n",
      "163/163 [==============================] - 6s 37ms/step - loss: 1.3888 - accuracy: 0.2856 - val_loss: 0.6947 - val_accuracy: 0.2810\n",
      "Epoch 19/100\n",
      "163/163 [==============================] - 6s 37ms/step - loss: 1.3888 - accuracy: 0.2856 - val_loss: 0.6945 - val_accuracy: 0.2810\n",
      "Epoch 20/100\n",
      "163/163 [==============================] - 6s 37ms/step - loss: 1.3887 - accuracy: 0.2856 - val_loss: 0.6945 - val_accuracy: 0.2810\n",
      "Epoch 21/100\n",
      "163/163 [==============================] - ETA: 0s - loss: 1.3887 - accuracy: 0.2856\n",
      "Epoch 00021: ReduceLROnPlateau reducing learning rate to 0.00010000000474974513.\n",
      "163/163 [==============================] - 6s 37ms/step - loss: 1.3887 - accuracy: 0.2856 - val_loss: 0.6950 - val_accuracy: 0.2810\n",
      "Epoch 22/100\n",
      "163/163 [==============================] - 6s 37ms/step - loss: 1.3887 - accuracy: 0.2856 - val_loss: 0.6951 - val_accuracy: 0.2810\n",
      "Epoch 23/100\n",
      "163/163 [==============================] - 6s 37ms/step - loss: 1.3887 - accuracy: 0.2856 - val_loss: 0.6950 - val_accuracy: 0.2810\n",
      "Epoch 24/100\n",
      "163/163 [==============================] - 6s 37ms/step - loss: 1.3887 - accuracy: 0.2856 - val_loss: 0.6950 - val_accuracy: 0.2810\n",
      "Epoch 25/100\n",
      "163/163 [==============================] - 6s 37ms/step - loss: 1.3887 - accuracy: 0.2856 - val_loss: 0.6950 - val_accuracy: 0.2810\n",
      "Epoch 26/100\n",
      "163/163 [==============================] - 6s 37ms/step - loss: 1.3887 - accuracy: 0.2856 - val_loss: 0.6950 - val_accuracy: 0.2810\n",
      "Epoch 27/100\n",
      "163/163 [==============================] - 6s 37ms/step - loss: 1.3887 - accuracy: 0.2856 - val_loss: 0.6950 - val_accuracy: 0.2810\n",
      "Epoch 28/100\n",
      "163/163 [==============================] - 6s 37ms/step - loss: 1.3887 - accuracy: 0.2856 - val_loss: 0.6950 - val_accuracy: 0.2810\n",
      "Epoch 29/100\n",
      "163/163 [==============================] - 6s 37ms/step - loss: 1.3887 - accuracy: 0.2856 - val_loss: 0.6950 - val_accuracy: 0.2810\n",
      "Epoch 30/100\n",
      "163/163 [==============================] - 6s 37ms/step - loss: 1.3887 - accuracy: 0.2856 - val_loss: 0.6950 - val_accuracy: 0.2810\n",
      "Epoch 31/100\n",
      "163/163 [==============================] - 6s 37ms/step - loss: 1.3887 - accuracy: 0.2856 - val_loss: 0.6950 - val_accuracy: 0.2810\n",
      "Epoch 32/100\n",
      "163/163 [==============================] - ETA: 0s - loss: 1.3887 - accuracy: 0.2856Restoring model weights from the end of the best epoch.\n",
      "163/163 [==============================] - 6s 37ms/step - loss: 1.3887 - accuracy: 0.2856 - val_loss: 0.6950 - val_accuracy: 0.2810\n",
      "Epoch 00032: early stopping\n"
     ]
    }
   ],
   "source": [
    "name=\"1-layer-64-cnn-without-normalization\"\n",
    "model0 = keras.Sequential(\n",
    "    [\n",
    "        keras.Input(shape=input_shape),\n",
    "        layers.Conv2D(64, kernel_size = (5, 5), activation='relu'),\n",
    "        layers.MaxPooling2D(pool_size=(2,2)),\n",
    "        layers.Flatten(),\n",
    "        layers.Dense(64, activation='relu'),\n",
    "        layers.Dense(1, activation='sigmoid')\n",
    "    \n",
    "    ],name=name\n",
    ")\n",
    "\n",
    "\n",
    "model0.compile(loss=\"binary_crossentropy\", optimizer=Adam(learning_rate=0.001), metrics=[\"accuracy\"])\n",
    "\n",
    "histories0.append(\n",
    "    model0.fit(\n",
    "        x_train, \n",
    "        y_train, \n",
    "        batch_size=batch_size, \n",
    "        epochs=epochs, \n",
    "        validation_data=(x_val,y_val), \n",
    "        callbacks=[lrr, es], \n",
    "        class_weight=class_weight))\n",
    "\n",
    "\n",
    "#############################################################################"
   ]
  },
  {
   "cell_type": "markdown",
   "metadata": {},
   "source": [
    "<p>The second simple CNN is build similar to the first one. One difference is that there will the a batch normalization after the convolutional layer.</p>"
   ]
  },
  {
   "cell_type": "code",
   "execution_count": 9,
   "metadata": {},
   "outputs": [],
   "source": [
    "epochs = 100\n",
    "batch_size = 1024"
   ]
  },
  {
   "cell_type": "code",
   "execution_count": 10,
   "metadata": {},
   "outputs": [
    {
     "name": "stdout",
     "output_type": "stream",
     "text": [
      "Epoch 1/100\n",
      "  2/163 [..............................] - ETA: 4s - loss: 5.9576 - accuracy: 0.6533WARNING:tensorflow:Callbacks method `on_train_batch_end` is slow compared to the batch time (batch time: 0.0173s vs `on_train_batch_end` time: 0.0334s). Check your callbacks.\n",
      "163/163 [==============================] - 9s 56ms/step - loss: 1.1911 - accuracy: 0.7739 - val_loss: 1.6405 - val_accuracy: 0.7315\n",
      "Epoch 2/100\n",
      "163/163 [==============================] - 9s 56ms/step - loss: 0.8188 - accuracy: 0.8159 - val_loss: 0.5463 - val_accuracy: 0.7714\n",
      "Epoch 3/100\n",
      "163/163 [==============================] - 9s 55ms/step - loss: 0.7658 - accuracy: 0.8297 - val_loss: 0.4215 - val_accuracy: 0.8376\n",
      "Epoch 4/100\n",
      "163/163 [==============================] - 9s 55ms/step - loss: 0.7289 - accuracy: 0.8393 - val_loss: 0.5980 - val_accuracy: 0.8438\n",
      "Epoch 5/100\n",
      "163/163 [==============================] - 9s 55ms/step - loss: 0.7268 - accuracy: 0.8399 - val_loss: 0.6487 - val_accuracy: 0.7923\n",
      "Epoch 6/100\n",
      "163/163 [==============================] - 9s 55ms/step - loss: 0.6810 - accuracy: 0.8512 - val_loss: 2.6908 - val_accuracy: 0.7490\n",
      "Epoch 7/100\n",
      "163/163 [==============================] - 9s 55ms/step - loss: 0.6555 - accuracy: 0.8570 - val_loss: 2.9941 - val_accuracy: 0.3965\n",
      "Epoch 8/100\n",
      "163/163 [==============================] - 9s 55ms/step - loss: 0.6254 - accuracy: 0.8637 - val_loss: 4.5774 - val_accuracy: 0.4912\n",
      "Epoch 9/100\n",
      "163/163 [==============================] - 9s 55ms/step - loss: 0.6148 - accuracy: 0.8666 - val_loss: 2.8778 - val_accuracy: 0.3713\n",
      "Epoch 10/100\n",
      "163/163 [==============================] - 9s 55ms/step - loss: 0.5875 - accuracy: 0.8728 - val_loss: 0.5410 - val_accuracy: 0.8339\n",
      "Epoch 11/100\n",
      "163/163 [==============================] - 9s 55ms/step - loss: 0.5594 - accuracy: 0.8794 - val_loss: 4.7366 - val_accuracy: 0.3594\n",
      "Epoch 12/100\n",
      "163/163 [==============================] - 9s 55ms/step - loss: 0.5589 - accuracy: 0.8801 - val_loss: 0.9240 - val_accuracy: 0.7648\n",
      "Epoch 13/100\n",
      "163/163 [==============================] - 9s 55ms/step - loss: 0.5307 - accuracy: 0.8859 - val_loss: 1.7051 - val_accuracy: 0.4751\n",
      "Epoch 14/100\n",
      "163/163 [==============================] - 9s 55ms/step - loss: 0.4962 - accuracy: 0.8939 - val_loss: 1.6400 - val_accuracy: 0.6244\n",
      "Epoch 15/100\n",
      "163/163 [==============================] - 9s 55ms/step - loss: 0.4953 - accuracy: 0.8949 - val_loss: 0.5948 - val_accuracy: 0.7920\n",
      "Epoch 16/100\n",
      "163/163 [==============================] - 9s 55ms/step - loss: 0.4650 - accuracy: 0.9015 - val_loss: 0.6669 - val_accuracy: 0.7517\n",
      "Epoch 17/100\n",
      "163/163 [==============================] - 9s 55ms/step - loss: 0.4373 - accuracy: 0.9071 - val_loss: 1.5854 - val_accuracy: 0.7903\n",
      "Epoch 18/100\n",
      "163/163 [==============================] - 9s 55ms/step - loss: 0.4067 - accuracy: 0.9150 - val_loss: 0.7357 - val_accuracy: 0.7365\n",
      "Epoch 19/100\n",
      "163/163 [==============================] - 9s 55ms/step - loss: 0.3876 - accuracy: 0.9187 - val_loss: 0.9687 - val_accuracy: 0.7647\n",
      "Epoch 20/100\n",
      "163/163 [==============================] - 9s 55ms/step - loss: 0.3647 - accuracy: 0.9244 - val_loss: 1.7736 - val_accuracy: 0.5580\n",
      "Epoch 21/100\n",
      "163/163 [==============================] - 9s 55ms/step - loss: 0.3357 - accuracy: 0.9304 - val_loss: 2.9448 - val_accuracy: 0.4757\n",
      "Epoch 22/100\n",
      "163/163 [==============================] - 9s 55ms/step - loss: 0.3093 - accuracy: 0.9363 - val_loss: 0.7417 - val_accuracy: 0.7740\n",
      "Epoch 23/100\n",
      "163/163 [==============================] - 9s 55ms/step - loss: 0.2992 - accuracy: 0.9409 - val_loss: 5.1148 - val_accuracy: 0.7280\n",
      "Epoch 24/100\n",
      "162/163 [============================>.] - ETA: 0s - loss: 0.2666 - accuracy: 0.9453\n",
      "Epoch 00024: ReduceLROnPlateau reducing learning rate to 0.00010000000474974513.\n",
      "163/163 [==============================] - 9s 55ms/step - loss: 0.2666 - accuracy: 0.9453 - val_loss: 4.9803 - val_accuracy: 0.3620\n",
      "Epoch 25/100\n",
      "163/163 [==============================] - 9s 55ms/step - loss: 0.1823 - accuracy: 0.9656 - val_loss: 0.7003 - val_accuracy: 0.8048\n",
      "Epoch 26/100\n",
      "163/163 [==============================] - 9s 55ms/step - loss: 0.1635 - accuracy: 0.9697 - val_loss: 0.6825 - val_accuracy: 0.8238\n",
      "Epoch 27/100\n",
      "163/163 [==============================] - 9s 55ms/step - loss: 0.1559 - accuracy: 0.9715 - val_loss: 0.6504 - val_accuracy: 0.8312\n",
      "Epoch 28/100\n",
      "163/163 [==============================] - 9s 55ms/step - loss: 0.1497 - accuracy: 0.9730 - val_loss: 0.6589 - val_accuracy: 0.8308\n",
      "Epoch 29/100\n",
      "163/163 [==============================] - 9s 55ms/step - loss: 0.1435 - accuracy: 0.9743 - val_loss: 0.6733 - val_accuracy: 0.8304\n",
      "Epoch 30/100\n",
      "163/163 [==============================] - 9s 55ms/step - loss: 0.1381 - accuracy: 0.9756 - val_loss: 0.6686 - val_accuracy: 0.8298\n",
      "Epoch 31/100\n",
      "163/163 [==============================] - 9s 55ms/step - loss: 0.1331 - accuracy: 0.9766 - val_loss: 0.6973 - val_accuracy: 0.8390\n",
      "Epoch 32/100\n",
      "163/163 [==============================] - 9s 55ms/step - loss: 0.1282 - accuracy: 0.9780 - val_loss: 0.7375 - val_accuracy: 0.8357\n",
      "Epoch 33/100\n",
      "163/163 [==============================] - 9s 55ms/step - loss: 0.1214 - accuracy: 0.9797 - val_loss: 0.7223 - val_accuracy: 0.8253\n",
      "Epoch 34/100\n",
      "162/163 [============================>.] - ETA: 0s - loss: 0.1167 - accuracy: 0.9810Restoring model weights from the end of the best epoch.\n",
      "163/163 [==============================] - 9s 55ms/step - loss: 0.1166 - accuracy: 0.9810 - val_loss: 0.8268 - val_accuracy: 0.7926\n",
      "Epoch 00034: early stopping\n"
     ]
    }
   ],
   "source": [
    "name=\"1-layer-64-cnn-with-normalization\"\n",
    "model1 = keras.Sequential(\n",
    "    [\n",
    "        keras.Input(shape=input_shape),\n",
    "        layers.Conv2D(64, kernel_size = (5, 5), activation='relu'),\n",
    "        layers.BatchNormalization(),\n",
    "        layers.MaxPooling2D(pool_size=(2,2)),\n",
    "        layers.Flatten(),\n",
    "        layers.Dense(64, activation='relu'),\n",
    "        layers.Dense(1, activation='sigmoid')\n",
    "    \n",
    "    ],name=name\n",
    ")\n",
    "\n",
    "\n",
    "model1.compile(loss=\"binary_crossentropy\", optimizer=Adam(learning_rate=0.001), metrics=[\"accuracy\"])\n",
    "\n",
    "histories0.append(\n",
    "    model1.fit(\n",
    "        x_train, \n",
    "        y_train, \n",
    "        batch_size=batch_size, \n",
    "        epochs=epochs, \n",
    "        validation_data=(x_val,y_val), \n",
    "        callbacks=[lrr, es], \n",
    "        class_weight=class_weight))\n",
    "\n",
    "\n",
    "#############################################################################"
   ]
  },
  {
   "cell_type": "code",
   "execution_count": 11,
   "metadata": {},
   "outputs": [
    {
     "data": {
      "text/html": [
       "<style  type=\"text/css\" >\n",
       "</style><table id=\"T_757183b8_d36b_11eb_8589_40e230e37f37\" ><thead>    <tr>        <th class=\"blank level0\" ></th>        <th class=\"col_heading level0 col0\" >loss</th>        <th class=\"col_heading level0 col1\" >accuracy</th>        <th class=\"col_heading level0 col2\" >val_loss</th>        <th class=\"col_heading level0 col3\" >val_accuracy</th>    </tr>    <tr>        <th class=\"index_name level0\" >model size</th>        <th class=\"blank\" ></th>        <th class=\"blank\" ></th>        <th class=\"blank\" ></th>        <th class=\"blank\" ></th>    </tr></thead><tbody>\n",
       "                <tr>\n",
       "                        <th id=\"T_757183b8_d36b_11eb_8589_40e230e37f37level0_row0\" class=\"row_heading level0 row0\" >1-layer-64-cnn-without-normalization</th>\n",
       "                        <td id=\"T_757183b8_d36b_11eb_8589_40e230e37f37row0_col0\" class=\"data row0 col0\" >1.39</td>\n",
       "                        <td id=\"T_757183b8_d36b_11eb_8589_40e230e37f37row0_col1\" class=\"data row0 col1\" >71.44%</td>\n",
       "                        <td id=\"T_757183b8_d36b_11eb_8589_40e230e37f37row0_col2\" class=\"data row0 col2\" >0.69</td>\n",
       "                        <td id=\"T_757183b8_d36b_11eb_8589_40e230e37f37row0_col3\" class=\"data row0 col3\" >71.89%</td>\n",
       "            </tr>\n",
       "            <tr>\n",
       "                        <th id=\"T_757183b8_d36b_11eb_8589_40e230e37f37level0_row1\" class=\"row_heading level0 row1\" >1-layer-64-cnn-with-normalization</th>\n",
       "                        <td id=\"T_757183b8_d36b_11eb_8589_40e230e37f37row1_col0\" class=\"data row1 col0\" >0.73</td>\n",
       "                        <td id=\"T_757183b8_d36b_11eb_8589_40e230e37f37row1_col1\" class=\"data row1 col1\" >83.93%</td>\n",
       "                        <td id=\"T_757183b8_d36b_11eb_8589_40e230e37f37row1_col2\" class=\"data row1 col2\" >0.60</td>\n",
       "                        <td id=\"T_757183b8_d36b_11eb_8589_40e230e37f37row1_col3\" class=\"data row1 col3\" >84.38%</td>\n",
       "            </tr>\n",
       "    </tbody></table>"
      ],
      "text/plain": [
       "<pandas.io.formats.style.Styler at 0x1e18ecef388>"
      ]
     },
     "execution_count": 11,
     "metadata": {},
     "output_type": "execute_result"
    }
   ],
   "source": [
    "acc_df(histories0)"
   ]
  },
  {
   "cell_type": "code",
   "execution_count": 25,
   "metadata": {},
   "outputs": [
    {
     "data": {
      "image/png": "[encoded data removed]",
      "text/plain": [
       "<Figure size 432x288 with 1 Axes>"
      ]
     },
     "metadata": {
      "needs_background": "light"
     },
     "output_type": "display_data"
    },
    {
     "data": {
      "image/png": "[encoded data removed]",
      "text/plain": [
       "<Figure size 432x288 with 1 Axes>"
      ]
     },
     "metadata": {
      "needs_background": "light"
     },
     "output_type": "display_data"
    }
   ],
   "source": [
    "plot_accuracies(histories0, colors=['#464749','#e60000' ,'#4d3c2f', '#c07156', '#806b59', '#b9b2a3'] , alpha=.5, lower_ylim=.0, upper_ylim=1)"
   ]
  },
  {
   "cell_type": "code",
   "execution_count": null,
   "metadata": {},
   "outputs": [],
   "source": []
  },
  {
   "cell_type": "code",
   "execution_count": 12,
   "metadata": {},
   "outputs": [
    {
     "data": {
      "image/png": "[encoded data removed]",
      "text/plain": [
       "<Figure size 432x288 with 1 Axes>"
      ]
     },
     "metadata": {
      "needs_background": "light"
     },
     "output_type": "display_data"
    },
    {
     "data": {
      "image/png": "[encoded data removed]",
      "text/plain": [
       "<Figure size 432x288 with 1 Axes>"
      ]
     },
     "metadata": {
      "needs_background": "light"
     },
     "output_type": "display_data"
    }
   ],
   "source": [
    "plot_accuracies(histories0, lower_ylim=0, upper_ylim=1)"
   ]
  },
  {
   "cell_type": "code",
   "execution_count": 13,
   "metadata": {},
   "outputs": [
    {
     "data": {
      "image/png": "[encoded data removed]",
      "text/plain": [
       "<Figure size 720x504 with 2 Axes>"
      ]
     },
     "metadata": {
      "needs_background": "light"
     },
     "output_type": "display_data"
    }
   ],
   "source": [
    "# plot confuction matrix\n",
    "plt=conf_matrix(model0, x_test, y_test)\n",
    "plt.show()"
   ]
  },
  {
   "cell_type": "code",
   "execution_count": 14,
   "metadata": {},
   "outputs": [
    {
     "data": {
      "image/png": "[encoded data removed]",
      "text/plain": [
       "<Figure size 720x504 with 2 Axes>"
      ]
     },
     "metadata": {
      "needs_background": "light"
     },
     "output_type": "display_data"
    }
   ],
   "source": [
    "# plot confuction matrix\n",
    "plt=conf_matrix(model1, x_test, y_test)\n",
    "plt.show()"
   ]
  },
  {
   "cell_type": "markdown",
   "metadata": {},
   "source": [
    "<h1> Advanced CNN </h1>"
   ]
  },
  {
   "cell_type": "markdown",
   "metadata": {},
   "source": [
    "<p>This CNN is an advanced verson of the CNN. The first CNN contains 2 convolutional layers. Each layer gets batch normalized and before the flattening there is also a max pooling layer.</p>"
   ]
  },
  {
   "cell_type": "code",
   "execution_count": 15,
   "metadata": {},
   "outputs": [
    {
     "name": "stdout",
     "output_type": "stream",
     "text": [
      "Epoch 1/100\n",
      "  2/163 [..............................] - ETA: 25s - loss: 12.6393 - accuracy: 0.5391WARNING:tensorflow:Callbacks method `on_train_batch_end` is slow compared to the batch time (batch time: 0.0635s vs `on_train_batch_end` time: 0.2500s). Check your callbacks.\n",
      "163/163 [==============================] - 55s 339ms/step - loss: 1.2057 - accuracy: 0.8096 - val_loss: 2.8564 - val_accuracy: 0.7189\n",
      "Epoch 2/100\n",
      "163/163 [==============================] - 55s 336ms/step - loss: 0.7719 - accuracy: 0.8283 - val_loss: 1.2743 - val_accuracy: 0.7182\n",
      "Epoch 3/100\n",
      "163/163 [==============================] - 54s 334ms/step - loss: 0.7459 - accuracy: 0.8358 - val_loss: 9.8202 - val_accuracy: 0.7542\n",
      "Epoch 4/100\n",
      "163/163 [==============================] - 55s 335ms/step - loss: 0.7285 - accuracy: 0.8410 - val_loss: 1.9567 - val_accuracy: 0.7463\n",
      "Epoch 5/100\n",
      "163/163 [==============================] - 54s 333ms/step - loss: 0.7038 - accuracy: 0.8467 - val_loss: 0.3629 - val_accuracy: 0.8502\n",
      "Epoch 6/100\n",
      "163/163 [==============================] - 54s 333ms/step - loss: 0.6862 - accuracy: 0.8504 - val_loss: 1.0067 - val_accuracy: 0.7643\n",
      "Epoch 7/100\n",
      "163/163 [==============================] - 55s 335ms/step - loss: 0.6743 - accuracy: 0.8540 - val_loss: 1.0590 - val_accuracy: 0.7314\n",
      "Epoch 8/100\n",
      "163/163 [==============================] - 55s 334ms/step - loss: 0.6558 - accuracy: 0.8574 - val_loss: 0.5907 - val_accuracy: 0.6594\n",
      "Epoch 9/100\n",
      "163/163 [==============================] - 54s 334ms/step - loss: 0.6444 - accuracy: 0.8599 - val_loss: 0.8386 - val_accuracy: 0.5543\n",
      "Epoch 10/100\n",
      "163/163 [==============================] - 54s 334ms/step - loss: 0.6111 - accuracy: 0.8667 - val_loss: 0.5685 - val_accuracy: 0.7794\n",
      "Epoch 11/100\n",
      "163/163 [==============================] - 54s 333ms/step - loss: 0.5847 - accuracy: 0.8739 - val_loss: 1.9026 - val_accuracy: 0.3585\n",
      "Epoch 12/100\n",
      "163/163 [==============================] - 54s 333ms/step - loss: 0.5877 - accuracy: 0.8742 - val_loss: 10.6153 - val_accuracy: 0.7250\n",
      "Epoch 13/100\n",
      "163/163 [==============================] - 54s 333ms/step - loss: 0.5356 - accuracy: 0.8836 - val_loss: 0.7026 - val_accuracy: 0.7840\n",
      "Epoch 14/100\n",
      "163/163 [==============================] - 54s 332ms/step - loss: 0.5010 - accuracy: 0.8918 - val_loss: 0.9761 - val_accuracy: 0.7641\n",
      "Epoch 15/100\n",
      "163/163 [==============================] - 54s 333ms/step - loss: 0.4489 - accuracy: 0.9029 - val_loss: 0.8324 - val_accuracy: 0.7805\n",
      "Epoch 16/100\n",
      "163/163 [==============================] - 54s 332ms/step - loss: 0.4214 - accuracy: 0.9085 - val_loss: 1.9225 - val_accuracy: 0.7951\n",
      "Epoch 17/100\n",
      "163/163 [==============================] - 54s 333ms/step - loss: 0.3707 - accuracy: 0.9201 - val_loss: 0.7508 - val_accuracy: 0.7195\n",
      "Epoch 18/100\n",
      "163/163 [==============================] - 54s 334ms/step - loss: 0.3317 - accuracy: 0.9283 - val_loss: 4.1369 - val_accuracy: 0.7447\n",
      "Epoch 19/100\n",
      "163/163 [==============================] - 54s 332ms/step - loss: 0.3001 - accuracy: 0.9348 - val_loss: 0.6428 - val_accuracy: 0.8446\n",
      "Epoch 20/100\n",
      "163/163 [==============================] - 54s 333ms/step - loss: 0.2489 - accuracy: 0.9471 - val_loss: 2.4026 - val_accuracy: 0.7623\n",
      "Epoch 21/100\n",
      "163/163 [==============================] - 54s 332ms/step - loss: 0.2332 - accuracy: 0.9509 - val_loss: 1.0496 - val_accuracy: 0.8121\n",
      "Epoch 22/100\n",
      "163/163 [==============================] - 54s 332ms/step - loss: 0.1992 - accuracy: 0.9584 - val_loss: 1.7445 - val_accuracy: 0.7955\n",
      "Epoch 23/100\n",
      "163/163 [==============================] - 54s 332ms/step - loss: 0.1807 - accuracy: 0.9628 - val_loss: 0.7190 - val_accuracy: 0.8248\n",
      "Epoch 24/100\n",
      "163/163 [==============================] - 54s 334ms/step - loss: 0.1394 - accuracy: 0.9720 - val_loss: 0.9257 - val_accuracy: 0.8331\n",
      "Epoch 25/100\n",
      "163/163 [==============================] - ETA: 0s - loss: 0.1304 - accuracy: 0.9739\n",
      "Epoch 00025: ReduceLROnPlateau reducing learning rate to 0.00010000000474974513.\n",
      "163/163 [==============================] - 54s 333ms/step - loss: 0.1304 - accuracy: 0.9739 - val_loss: 1.0462 - val_accuracy: 0.8188\n",
      "Epoch 26/100\n",
      "163/163 [==============================] - 54s 332ms/step - loss: 0.0685 - accuracy: 0.9884 - val_loss: 0.8125 - val_accuracy: 0.8357\n",
      "Epoch 27/100\n",
      "163/163 [==============================] - 54s 333ms/step - loss: 0.0499 - accuracy: 0.9928 - val_loss: 0.8174 - val_accuracy: 0.8354\n",
      "Epoch 28/100\n",
      "163/163 [==============================] - 54s 333ms/step - loss: 0.0438 - accuracy: 0.9940 - val_loss: 0.8174 - val_accuracy: 0.8358\n",
      "Epoch 29/100\n",
      "163/163 [==============================] - 54s 333ms/step - loss: 0.0394 - accuracy: 0.9949 - val_loss: 0.8386 - val_accuracy: 0.8402\n",
      "Epoch 30/100\n",
      "163/163 [==============================] - 54s 332ms/step - loss: 0.0354 - accuracy: 0.9957 - val_loss: 0.8438 - val_accuracy: 0.8386\n",
      "Epoch 31/100\n",
      "163/163 [==============================] - 54s 332ms/step - loss: 0.0326 - accuracy: 0.9962 - val_loss: 0.8490 - val_accuracy: 0.8400\n",
      "Epoch 32/100\n",
      "163/163 [==============================] - 54s 332ms/step - loss: 0.0303 - accuracy: 0.9965 - val_loss: 0.8815 - val_accuracy: 0.8350\n",
      "Epoch 33/100\n",
      "163/163 [==============================] - 54s 332ms/step - loss: 0.0282 - accuracy: 0.9968 - val_loss: 0.9084 - val_accuracy: 0.8391\n",
      "Epoch 34/100\n",
      "163/163 [==============================] - 54s 332ms/step - loss: 0.0261 - accuracy: 0.9971 - val_loss: 0.9073 - val_accuracy: 0.8432\n",
      "Epoch 35/100\n",
      "163/163 [==============================] - ETA: 0s - loss: 0.0243 - accuracy: 0.9973Restoring model weights from the end of the best epoch.\n",
      "163/163 [==============================] - 54s 333ms/step - loss: 0.0243 - accuracy: 0.9973 - val_loss: 0.9125 - val_accuracy: 0.8381\n",
      "Epoch 00035: early stopping\n"
     ]
    }
   ],
   "source": [
    "histories1 = []\n",
    "\n",
    "\n",
    "epochs = 100\n",
    "batch_size = 1024\n",
    "\n",
    "name=\"2-layer-128-64-cnn-with-normalization\"\n",
    "model2 = keras.Sequential(\n",
    "    [\n",
    "        keras.Input(shape=input_shape),\n",
    "        layers.Conv2D(128, kernel_size = (5, 5), activation='relu'),\n",
    "        layers.BatchNormalization(),\n",
    "        layers.Conv2D(64, kernel_size = (5, 5), activation='relu'),\n",
    "        layers.BatchNormalization(),\n",
    "        layers.MaxPooling2D(pool_size=(2,2)),\n",
    "        \n",
    "        layers.Flatten(),\n",
    "        layers.Dense(64, activation='relu'),\n",
    "        layers.Dense(1, activation='sigmoid')\n",
    "    \n",
    "    ],name=name\n",
    ")\n",
    "\n",
    "model2.compile(loss=\"binary_crossentropy\", optimizer=Adam(learning_rate=0.001), metrics=[\"accuracy\"])\n",
    "\n",
    "histories1.append(\n",
    "    model2.fit(\n",
    "        x_train, \n",
    "        y_train, \n",
    "        batch_size=batch_size, \n",
    "        epochs=epochs, \n",
    "        validation_data=(x_val,y_val), \n",
    "        callbacks=[lrr, es], \n",
    "        class_weight=class_weight))\n",
    "\n"
   ]
  },
  {
   "cell_type": "code",
   "execution_count": null,
   "metadata": {},
   "outputs": [],
   "source": []
  },
  {
   "cell_type": "code",
   "execution_count": 16,
   "metadata": {},
   "outputs": [
    {
     "name": "stdout",
     "output_type": "stream",
     "text": [
      "Epoch 1/100\n",
      "5204/5204 [==============================] - 111s 21ms/step - loss: 1.1067 - accuracy: 0.8103 - val_loss: 92.9072 - val_accuracy: 0.2818\n",
      "Epoch 2/100\n",
      "5204/5204 [==============================] - 111s 21ms/step - loss: 0.8570 - accuracy: 0.8205 - val_loss: 3.6195 - val_accuracy: 0.6968\n",
      "Epoch 3/100\n",
      "5204/5204 [==============================] - 111s 21ms/step - loss: 0.8201 - accuracy: 0.8265 - val_loss: 3.6700 - val_accuracy: 0.2810\n",
      "Epoch 4/100\n",
      "5204/5204 [==============================] - 111s 21ms/step - loss: 0.8003 - accuracy: 0.8287 - val_loss: 1.1440 - val_accuracy: 0.5638\n",
      "Epoch 5/100\n",
      "5204/5204 [==============================] - 111s 21ms/step - loss: 0.7912 - accuracy: 0.8302 - val_loss: 1.5940 - val_accuracy: 0.6552\n",
      "Epoch 6/100\n",
      "5204/5204 [==============================] - 111s 21ms/step - loss: 0.7812 - accuracy: 0.8316 - val_loss: 1.5421 - val_accuracy: 0.6126\n",
      "Epoch 7/100\n",
      "5204/5204 [==============================] - 111s 21ms/step - loss: 0.7738 - accuracy: 0.8331 - val_loss: 8.2558 - val_accuracy: 0.5944\n",
      "Epoch 8/100\n",
      "5204/5204 [==============================] - 111s 21ms/step - loss: 0.7709 - accuracy: 0.8340 - val_loss: 3.3578 - val_accuracy: 0.7216\n",
      "Epoch 9/100\n",
      "5204/5204 [==============================] - 111s 21ms/step - loss: 0.7675 - accuracy: 0.8355 - val_loss: 1.5237 - val_accuracy: 0.5529\n",
      "Epoch 10/100\n",
      "5204/5204 [==============================] - 112s 21ms/step - loss: 0.7645 - accuracy: 0.8357 - val_loss: 1.7095 - val_accuracy: 0.4699\n",
      "Epoch 11/100\n",
      "5204/5204 [==============================] - 111s 21ms/step - loss: 0.7614 - accuracy: 0.8361 - val_loss: 3.5844 - val_accuracy: 0.4364\n",
      "Epoch 12/100\n",
      "5204/5204 [==============================] - 111s 21ms/step - loss: 0.7589 - accuracy: 0.8361 - val_loss: 8.7051 - val_accuracy: 0.7169\n",
      "Epoch 13/100\n",
      "5204/5204 [==============================] - 111s 21ms/step - loss: 0.7545 - accuracy: 0.8364 - val_loss: 3.9075 - val_accuracy: 0.7207\n",
      "Epoch 14/100\n",
      "5204/5204 [==============================] - 111s 21ms/step - loss: 0.7518 - accuracy: 0.8380 - val_loss: 3.6139 - val_accuracy: 0.7228\n",
      "Epoch 15/100\n",
      "5204/5204 [==============================] - 111s 21ms/step - loss: 0.7489 - accuracy: 0.8387 - val_loss: 2.4374 - val_accuracy: 0.3821\n",
      "Epoch 16/100\n",
      "5204/5204 [==============================] - 111s 21ms/step - loss: 0.7463 - accuracy: 0.8395 - val_loss: 4.6757 - val_accuracy: 0.7215\n",
      "Epoch 17/100\n",
      "5204/5204 [==============================] - 111s 21ms/step - loss: 0.7436 - accuracy: 0.8411 - val_loss: 4.6518 - val_accuracy: 0.7184\n",
      "Epoch 18/100\n",
      "5204/5204 [==============================] - 111s 21ms/step - loss: 0.7404 - accuracy: 0.8415 - val_loss: 7.7671 - val_accuracy: 0.6625\n",
      "Epoch 19/100\n",
      "5204/5204 [==============================] - 112s 21ms/step - loss: 0.7364 - accuracy: 0.8423 - val_loss: 3.6503 - val_accuracy: 0.7238\n",
      "Epoch 20/100\n",
      "5204/5204 [==============================] - 111s 21ms/step - loss: 0.7356 - accuracy: 0.8423 - val_loss: 3.1592 - val_accuracy: 0.7136\n",
      "Epoch 21/100\n",
      "5204/5204 [==============================] - 111s 21ms/step - loss: 0.7306 - accuracy: 0.8430 - val_loss: 3.8398 - val_accuracy: 0.7243\n",
      "Epoch 22/100\n",
      "5204/5204 [==============================] - 111s 21ms/step - loss: 0.7261 - accuracy: 0.8443 - val_loss: 2.0238 - val_accuracy: 0.7590\n",
      "Epoch 23/100\n",
      "5204/5204 [==============================] - 111s 21ms/step - loss: 0.7266 - accuracy: 0.8446 - val_loss: 4.6158 - val_accuracy: 0.3202\n",
      "Epoch 24/100\n",
      "5204/5204 [==============================] - 111s 21ms/step - loss: 0.7234 - accuracy: 0.8449 - val_loss: 1.6716 - val_accuracy: 0.6944\n",
      "Epoch 25/100\n",
      "5204/5204 [==============================] - 111s 21ms/step - loss: 0.7214 - accuracy: 0.8451 - val_loss: 2.6853 - val_accuracy: 0.7338\n",
      "Epoch 26/100\n",
      "5204/5204 [==============================] - 111s 21ms/step - loss: 0.7223 - accuracy: 0.8454 - val_loss: 4.3243 - val_accuracy: 0.5971\n",
      "Epoch 27/100\n",
      "5204/5204 [==============================] - 111s 21ms/step - loss: 0.7193 - accuracy: 0.8463 - val_loss: 3.0481 - val_accuracy: 0.7397\n",
      "Epoch 28/100\n",
      "5204/5204 [==============================] - 111s 21ms/step - loss: 0.7165 - accuracy: 0.8459 - val_loss: 4.7409 - val_accuracy: 0.7052\n",
      "Epoch 29/100\n",
      "5204/5204 [==============================] - 111s 21ms/step - loss: 0.7150 - accuracy: 0.8470 - val_loss: 6.0749 - val_accuracy: 0.7005\n",
      "Epoch 30/100\n",
      "5204/5204 [==============================] - 111s 21ms/step - loss: 0.7132 - accuracy: 0.8469 - val_loss: 5.5633 - val_accuracy: 0.6924\n",
      "Epoch 31/100\n",
      "5204/5204 [==============================] - 111s 21ms/step - loss: 0.7101 - accuracy: 0.8474 - val_loss: 6.1237 - val_accuracy: 0.7091\n",
      "Epoch 32/100\n",
      "5204/5204 [==============================] - 111s 21ms/step - loss: 0.7126 - accuracy: 0.8470 - val_loss: 4.9875 - val_accuracy: 0.6936\n",
      "Epoch 33/100\n",
      "5204/5204 [==============================] - 111s 21ms/step - loss: 0.7075 - accuracy: 0.8484 - val_loss: 10.1926 - val_accuracy: 0.6955\n",
      "Epoch 34/100\n",
      "5204/5204 [==============================] - 111s 21ms/step - loss: 0.7093 - accuracy: 0.8470 - val_loss: 1.7441 - val_accuracy: 0.7582\n",
      "Epoch 35/100\n",
      "5204/5204 [==============================] - 111s 21ms/step - loss: 0.7077 - accuracy: 0.8480 - val_loss: 5.2157 - val_accuracy: 0.7190\n",
      "Epoch 36/100\n",
      "5204/5204 [==============================] - 111s 21ms/step - loss: 0.7062 - accuracy: 0.8479 - val_loss: 13.2437 - val_accuracy: 0.7180\n",
      "Epoch 37/100\n",
      "5204/5204 [==============================] - 111s 21ms/step - loss: 0.7053 - accuracy: 0.8480 - val_loss: 4.9006 - val_accuracy: 0.7182\n",
      "Epoch 38/100\n",
      "5204/5204 [==============================] - 111s 21ms/step - loss: 0.7030 - accuracy: 0.8478 - val_loss: 7.6754 - val_accuracy: 0.7181\n",
      "Epoch 39/100\n",
      "5204/5204 [==============================] - 111s 21ms/step - loss: 0.7016 - accuracy: 0.8489 - val_loss: 5.8894 - val_accuracy: 0.6749\n",
      "Epoch 40/100\n",
      "5204/5204 [==============================] - 111s 21ms/step - loss: 0.7023 - accuracy: 0.8485 - val_loss: 9.6347 - val_accuracy: 0.7109\n",
      "Epoch 41/100\n",
      "5204/5204 [==============================] - 111s 21ms/step - loss: 0.6993 - accuracy: 0.8491 - val_loss: 1.7470 - val_accuracy: 0.6302\n",
      "Epoch 42/100\n",
      "5203/5204 [============================>.] - ETA: 0s - loss: 0.6973 - accuracy: 0.8501\n",
      "Epoch 00042: ReduceLROnPlateau reducing learning rate to 0.00010000000474974513.\n",
      "5204/5204 [==============================] - 111s 21ms/step - loss: 0.6973 - accuracy: 0.8501 - val_loss: 5.6324 - val_accuracy: 0.7130\n",
      "Epoch 43/100\n",
      "5204/5204 [==============================] - 111s 21ms/step - loss: 0.6658 - accuracy: 0.8549 - val_loss: 6.5060 - val_accuracy: 0.7161\n",
      "Epoch 44/100\n",
      "5204/5204 [==============================] - 111s 21ms/step - loss: 0.6630 - accuracy: 0.8557 - val_loss: 7.9182 - val_accuracy: 0.7182\n",
      "Epoch 45/100\n",
      "5204/5204 [==============================] - 111s 21ms/step - loss: 0.6608 - accuracy: 0.8567 - val_loss: 6.9619 - val_accuracy: 0.7199\n",
      "Epoch 46/100\n",
      "5204/5204 [==============================] - 111s 21ms/step - loss: 0.6623 - accuracy: 0.8568 - val_loss: 7.4016 - val_accuracy: 0.7190\n",
      "Epoch 47/100\n",
      "5204/5204 [==============================] - 111s 21ms/step - loss: 0.6602 - accuracy: 0.8564 - val_loss: 6.1171 - val_accuracy: 0.7213\n",
      "Epoch 48/100\n",
      "5204/5204 [==============================] - 111s 21ms/step - loss: 0.6600 - accuracy: 0.8572 - val_loss: 7.7773 - val_accuracy: 0.7197\n",
      "Epoch 49/100\n",
      "5204/5204 [==============================] - 111s 21ms/step - loss: 0.6580 - accuracy: 0.8568 - val_loss: 6.8176 - val_accuracy: 0.7193\n",
      "Epoch 50/100\n",
      "5204/5204 [==============================] - 111s 21ms/step - loss: 0.6605 - accuracy: 0.8568 - val_loss: 7.1052 - val_accuracy: 0.7211\n",
      "Epoch 51/100\n",
      "5204/5204 [==============================] - 111s 21ms/step - loss: 0.6567 - accuracy: 0.8574 - val_loss: 6.0614 - val_accuracy: 0.7225\n",
      "Epoch 52/100\n",
      "5203/5204 [============================>.] - ETA: 0s - loss: 0.6563 - accuracy: 0.8569Restoring model weights from the end of the best epoch.\n",
      "5204/5204 [==============================] - 111s 21ms/step - loss: 0.6563 - accuracy: 0.8569 - val_loss: 7.2404 - val_accuracy: 0.7194\n",
      "Epoch 00052: early stopping\n"
     ]
    }
   ],
   "source": [
    "epochs = 100\n",
    "batch_size = 32\n",
    "name=\"1-layer-512-cnn-with-normalization-dropout\"\n",
    "model3 = keras.Sequential(\n",
    "    [\n",
    "        keras.Input(shape=input_shape),\n",
    "        layers.Conv2D(512,kernel_size=(5,5),activation='relu'),\n",
    "        layers.BatchNormalization(),\n",
    "        keras.layers.Dropout(0.4),\n",
    "        layers.MaxPooling2D(pool_size=(2,2)),\n",
    "        \n",
    "        layers.Flatten(),\n",
    "        layers.Dense(32, activation='relu'),\n",
    "        layers.Dense(1, activation='sigmoid')\n",
    "    \n",
    "    ],name=name\n",
    ")\n",
    "\n",
    "model3.compile(loss=\"binary_crossentropy\", optimizer=Adam(learning_rate=0.001), metrics=[\"accuracy\"])\n",
    "\n",
    "histories1.append(\n",
    "    model3.fit(\n",
    "        x_train, \n",
    "        y_train, \n",
    "        batch_size=batch_size, \n",
    "        epochs=epochs, \n",
    "        validation_data=(x_val,y_val), \n",
    "        callbacks=[lrr, es], \n",
    "        class_weight=class_weight))"
   ]
  },
  {
   "cell_type": "code",
   "execution_count": null,
   "metadata": {},
   "outputs": [
    {
     "name": "stdout",
     "output_type": "stream",
     "text": [
      "Epoch 1/100\n",
      "  2/163 [..............................] - ETA: 54s - loss: 1.0460 - accuracy: 0.4937WARNING:tensorflow:Callbacks method `on_train_batch_end` is slow compared to the batch time (batch time: 0.1250s vs `on_train_batch_end` time: 0.2691s). Check your callbacks.\n",
      " 44/163 [=======>......................] - ETA: 46s - loss: 0.9861 - accuracy: 0.5303"
     ]
    }
   ],
   "source": [
    "batch_size = 1024\n",
    "epochs = 100\n",
    "\n",
    "########################################################################\n",
    "\n",
    "name=\"2-layer-128-64-cnn-with-normalization-dropout\"\n",
    "model4 = keras.Sequential(\n",
    "    [\n",
    "        keras.Input(shape=input_shape),\n",
    "        layers.Conv2D(128,kernel_size=(5,5),activation='relu'),\n",
    "        layers.BatchNormalization(),\n",
    "        keras.layers.Dropout(0.4),\n",
    "        layers.Conv2D(64,kernel_size=(5,5),activation='relu'),\n",
    "        layers.BatchNormalization(),\n",
    "        keras.layers.Dropout(0.4),\n",
    "        layers.MaxPooling2D(pool_size=(2,2)),\n",
    "\n",
    "        keras.layers.Flatten(),\n",
    "        keras.layers.BatchNormalization(),\n",
    "        keras.layers.Dense(128, activation='relu'),\n",
    "        keras.layers.Dropout(0.4),\n",
    "        keras.layers.Dense(1, activation='sigmoid')   \n",
    "    \n",
    "    ],name=name\n",
    ")\n",
    "\n",
    "\n",
    "model4.compile(loss=\"binary_crossentropy\", optimizer=SGD(learning_rate=0.0001), metrics=[\"accuracy\"])\n",
    "\n",
    "histories1.append(model4.fit(x_train, y_train, batch_size=batch_size, epochs=epochs, validation_data=(x_val,y_val)))\n"
   ]
  },
  {
   "cell_type": "code",
   "execution_count": null,
   "metadata": {},
   "outputs": [],
   "source": [
    "acc_df(histories1)"
   ]
  },
  {
   "cell_type": "code",
   "execution_count": null,
   "metadata": {},
   "outputs": [],
   "source": [
    "plot_accuracies(histories1, lower_ylim=0, upper_ylim=1)"
   ]
  },
  {
   "cell_type": "code",
   "execution_count": null,
   "metadata": {},
   "outputs": [],
   "source": [
    "# plot confuction matrix\n",
    "plt=conf_matrix(model2, x_test, y_test)\n",
    "plt.show()"
   ]
  },
  {
   "cell_type": "code",
   "execution_count": null,
   "metadata": {},
   "outputs": [],
   "source": [
    "# plot confuction matrix\n",
    "plt=conf_matrix(model3, x_test, y_test)\n",
    "plt.show()"
   ]
  },
  {
   "cell_type": "code",
   "execution_count": null,
   "metadata": {},
   "outputs": [],
   "source": [
    "# plot confuction matrix\n",
    "plt=conf_matrix(model4, x_test, y_test)\n",
    "plt.show()"
   ]
  },
  {
   "cell_type": "code",
   "execution_count": null,
   "metadata": {},
   "outputs": [],
   "source": [
    "models = [model1, model2, model3, model4]\n",
    "prec_rec_df(models)"
   ]
  },
  {
   "cell_type": "markdown",
   "metadata": {},
   "source": [
    "RUN TILL HERE"
   ]
  },
  {
   "cell_type": "markdown",
   "metadata": {},
   "source": [
    "<h1> Learnings </h1>"
   ]
  },
  {
   "cell_type": "markdown",
   "metadata": {},
   "source": [
    "<p>Testtesttest </p>"
   ]
  },
  {
   "cell_type": "markdown",
   "metadata": {},
   "source": [
    "<h1>Advanced CNN with optimized dense layer</h1>"
   ]
  },
  {
   "cell_type": "code",
   "execution_count": null,
   "metadata": {},
   "outputs": [],
   "source": [
    "batch_size = 64\n",
    "epochs = 100\n",
    "histories2 = []\n",
    "\n",
    "name=\"adv-cnn-dense-1\"\n",
    "model5 = keras.Sequential(\n",
    "    [\n",
    "        ################# to be replaced ###############################\n",
    "        keras.Input(shape=input_shape),\n",
    "        layers.Conv2D(64,kernel_size=(5,5),activation='relu'),\n",
    "        layers.BatchNormalization(),\n",
    "        layers.Conv2D(64,kernel_size=(5,5),activation='relu'),\n",
    "        layers.BatchNormalization(),\n",
    "        layers.MaxPooling2D(pool_size=(2,2)),\n",
    "        \n",
    "        layers.Conv2D(64,kernel_size=(3,3),activation='relu'),\n",
    "        layers.BatchNormalization(),\n",
    "        layers.Conv2D(64,kernel_size=(3,3),activation='relu'),\n",
    "        layers.BatchNormalization(),\n",
    "        layers.MaxPooling2D(pool_size=(2,2)),\n",
    "        #################################################################\n",
    "\n",
    "        keras.layers.Flatten(),\n",
    "        keras.layers.BatchNormalization(),\n",
    "        keras.layers.Dense(128, activation='relu'),\n",
    "        keras.layers.Dropout(0.4),\n",
    "        keras.layers.Dense(1, activation='sigmoid')   \n",
    "    \n",
    "    ],name=name\n",
    ")\n",
    "\n",
    "model5.compile(loss=\"binary_crossentropy\", optimizer=SGD(learning_rate=0.0001), metrics=[\"accuracy\"])\n",
    "\n",
    "histories2.append(model5.fit(x_train, y_train, batch_size=batch_size, epochs=epochs, validation_data=(x_val,y_val)))\n",
    "\n",
    "\n",
    "########################################################################\n",
    "\n",
    "########################################################################\n",
    "\n"
   ]
  },
  {
   "cell_type": "code",
   "execution_count": null,
   "metadata": {},
   "outputs": [],
   "source": [
    "acc_df(histories1)"
   ]
  },
  {
   "cell_type": "code",
   "execution_count": 30,
   "metadata": {},
   "outputs": [
    {
     "name": "stdout",
     "output_type": "stream",
     "text": [
      "None\n"
     ]
    }
   ],
   "source": []
  },
  {
   "cell_type": "code",
   "execution_count": null,
   "metadata": {},
   "outputs": [],
   "source": []
  }
 ],
 "metadata": {
  "kernelspec": {
   "display_name": "Python [conda env:tensorflow_gpu] *",
   "language": "python",
   "name": "conda-env-tensorflow_gpu-py"
  },
  "language_info": {
   "codemirror_mode": {
    "name": "ipython",
    "version": 3
   },
   "file_extension": ".py",
   "mimetype": "text/x-python",
   "name": "python",
   "nbconvert_exporter": "python",
   "pygments_lexer": "ipython3",
   "version": "3.7.9"
  }
 },
 "nbformat": 4,
 "nbformat_minor": 4
}
