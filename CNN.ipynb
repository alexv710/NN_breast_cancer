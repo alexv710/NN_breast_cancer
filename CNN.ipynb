{
 "cells": [
  {
   "cell_type": "code",
   "execution_count": 1,
   "metadata": {},
   "outputs": [],
   "source": [
    "import pickle\n",
    "import sklearn\n",
    "import seaborn\n",
    "import pandas\n",
    "import numpy\n",
    "\n",
    "# Graphs, visualizations\n",
    "import matplotlib.pyplot as plt\n",
    "\n",
    "import tensorflow as tf\n",
    "from tensorflow import keras\n",
    "# For Image Data Augmentation\n",
    "\n",
    "import sklearn.model_selection\n",
    "from tensorflow.keras.preprocessing.image import ImageDataGenerator\n",
    "from tensorflow.keras.layers import Flatten, Dense, BatchNormalization, Activation, Dropout\n",
    "from tensorflow.keras import layers\n",
    "from keras.optimizers import Adam"
   ]
  },
  {
   "cell_type": "code",
   "execution_count": 2,
   "metadata": {},
   "outputs": [
    {
     "data": {
      "text/plain": [
       "' For GPU optimization (if needed)\\nfrom tensorflow.compat.v1.keras.backend import set_session\\n\\nconfig = tf.compat.v1.ConfigProto()\\nconfig.gpu_options.allow_growth = True  # dynamically grow the memory used on the GPU\\nconfig.log_device_placement = True  # to log device placement (on which device the operation ran)\\nsess = tf.compat.v1.Session(config=config)\\nset_session(sess)\\n'"
      ]
     },
     "execution_count": 2,
     "metadata": {},
     "output_type": "execute_result"
    }
   ],
   "source": [
    "''' For GPU optimization (if needed)\n",
    "from tensorflow.compat.v1.keras.backend import set_session\n",
    "\n",
    "config = tf.compat.v1.ConfigProto()\n",
    "config.gpu_options.allow_growth = True  # dynamically grow the memory used on the GPU\n",
    "config.log_device_placement = True  # to log device placement (on which device the operation ran)\n",
    "sess = tf.compat.v1.Session(config=config)\n",
    "set_session(sess)\n",
    "'''"
   ]
  },
  {
   "cell_type": "code",
   "execution_count": 3,
   "metadata": {},
   "outputs": [],
   "source": [
    "# Import Data From Pickle file\n",
    "\n",
    "with open('y.pickle', 'rb') as f:\n",
    "    y_data = pickle.load(f)\n",
    "f.close()\n",
    "with open('X.pickle', 'rb') as f:\n",
    "    X_data = pickle.load(f)\n",
    "f.close()"
   ]
  },
  {
   "cell_type": "code",
   "execution_count": 4,
   "metadata": {},
   "outputs": [
    {
     "name": "stdout",
     "output_type": "stream",
     "text": [
      "(166514, 50, 50, 3) (166514,) 0.7144444310988866\n",
      "(55505, 50, 50, 3) (55505,) 0.7182415998558689\n",
      "(55505, 50, 50, 3) (55505,) 0.7189802720475633\n"
     ]
    },
    {
     "data": {
      "text/plain": [
       "(50, 50, 3)"
      ]
     },
     "execution_count": 4,
     "metadata": {},
     "output_type": "execute_result"
    }
   ],
   "source": [
    "#Train-validation-test split\n",
    "\n",
    "# train test split for validation after training x_test is never touched or looked at during training\n",
    "x_train,x_test,y_train,y_test=sklearn.model_selection.train_test_split(numpy.asarray(X_data),\n",
    "                                                                       numpy.asarray(y_data),\n",
    "                                                                       test_size=.2,\n",
    "                                                                       random_state=42)\n",
    "\n",
    "# train test split for validation during training\n",
    "x_train,x_val,y_train,y_val=sklearn.model_selection.train_test_split(x_train,\n",
    "                                                                     y_train,\n",
    "                                                                     test_size=.25,\n",
    "                                                                     random_state=42)\n",
    "\n",
    "#Dimension of the kaggle dataset & percentage of negative patches\n",
    "print(x_train.shape,y_train.shape, 1-sum(y_train)/y_train.shape[0])\n",
    "print(x_test.shape,y_test.shape, 1-sum(y_test)/y_test.shape[0])\n",
    "print(x_val.shape,y_val.shape, 1-sum(y_val)/y_val.shape[0])\n",
    "\n",
    "input_shape=x_train.shape[1:]\n",
    "input_shape"
   ]
  },
  {
   "cell_type": "code",
   "execution_count": 5,
   "metadata": {},
   "outputs": [],
   "source": [
    "def conf_matrix(model, x_test, y_test):\n",
    "    \n",
    "    y_pred = [1 * (x[0]>=0.5) for x in model.predict(x_test)]\n",
    "\n",
    "    matrix = sklearn.metrics.confusion_matrix(y_test, y_pred)\n",
    "    df_cm = pandas.DataFrame(matrix, index = [i for i in ['No Cancer (actual)', 'Cancer (actual)']],\n",
    "                      columns = [i for i in ['predict No Cancer', 'predict Cancer']])\n",
    "    plt.figure(figsize = (10,7))\n",
    "    seaborn.heatmap(df_cm, annot=True, fmt='d')\n",
    "    return plt\n",
    "\n",
    "def acc_df(histories):\n",
    "    columns = ['model size' ,'loss', 'accuracy', 'val_loss', 'val_accuracy']\n",
    "    df = pandas.DataFrame(columns = columns)\n",
    "    for history in histories:\n",
    "    \n",
    "    # get the epoch with the highest validation accuracy for each history element\n",
    "        i = 0\n",
    "        index = 0\n",
    "        comp = 0\n",
    "        for val_acc in history.history['val_accuracy']:\n",
    "            if val_acc > comp:\n",
    "                comp = val_acc\n",
    "                i = index\n",
    "            index += 1\n",
    "\n",
    "        df_temp = pandas.DataFrame([[history.model.name,\n",
    "                                  history.history['loss'][i],\n",
    "                                  history.history['accuracy'][i],\n",
    "                                  history.history['val_loss'][i],\n",
    "                                  history.history['val_accuracy'][i]]], \n",
    "                        columns = columns)\n",
    "        df = df.append(df_temp)\n",
    "\n",
    "    df = df.set_index('model size')\n",
    "\n",
    "    df = df.style.format({\n",
    "        'loss': '{:,.2f}'.format,\n",
    "        'accuracy': '{:,.2%}'.format,\n",
    "        'val_loss': '{:,.2f}'.format,\n",
    "        'val_accuracy': '{:,.2%}'.format,\n",
    "    })\n",
    "\n",
    "    return df\n",
    "\n",
    "def plot_accuracies(histories, colors, lower_ylim=.7, upper_ylim=.9, alpha=.6, **kwargs):\n",
    "    \n",
    "    i = 0\n",
    "    colors=colors\n",
    "    \n",
    "    for history in histories:\n",
    "        plt.plot(history.history['accuracy'], alpha=alpha, color=colors[i])\n",
    "        i += 1\n",
    "    plt.xlabel('epoch')\n",
    "    plt.ylabel('train accuracy')\n",
    "    plt.ylim([lower_ylim,upper_ylim])\n",
    "    plt.gca().spines['right'].set_visible(False)\n",
    "    plt.gca().spines['top'].set_visible(False)\n",
    "    plt.legend([hist.model.name for hist in histories], loc='lower right')\n",
    "\n",
    "    plt.show()\n",
    "    i = 0\n",
    "    for history in histories:\n",
    "        plt.plot(history.history['val_accuracy'], alpha=alpha, color=colors[i])\n",
    "        i += 1\n",
    "    plt.xlabel('epoch')\n",
    "    plt.ylabel('validation accuracy')\n",
    "    plt.ylim([lower_ylim,upper_ylim])\n",
    "    plt.gca().spines['right'].set_visible(False)\n",
    "    plt.gca().spines['top'].set_visible(False)\n",
    "    plt.legend([hist.model.name for hist in histories], loc='lower right')\n",
    "\n",
    "    plt.show()\n",
    "    \n",
    "def prec_rec_df(models):\n",
    "    columns = ['model' ,'precision (cancer positive)', 'recall (cancer positive)']\n",
    "    df = pandas.DataFrame(columns = columns)\n",
    "    for model in models:\n",
    "        matrix = sklearn.metrics.confusion_matrix(y_test, [1 * (x[0]>=0.5) for x in model.predict(x_test)])\n",
    "        precision = matrix[1][1]/(matrix[1][1]+matrix[0][1])\n",
    "        recall = matrix[1][1]/(matrix[1][1]+matrix[1][0])\n",
    "\n",
    "\n",
    "        df = df.append(pandas.DataFrame([[model.name,\n",
    "                                      precision,\n",
    "                                      recall]], \n",
    "                            columns = columns))\n",
    "    df = df.set_index('model')\n",
    "\n",
    "    df = df.style.format({\n",
    "        'precision (cancer positive)': '{:,.2%}'.format,\n",
    "        'recall (cancer positive)': '{:,.2%}'.format})\n",
    "\n",
    "    return df\n",
    "    \n",
    "\n",
    "### Callbacks ###\n",
    "\n",
    "#Early stopping callback\n",
    "es = keras.callbacks.EarlyStopping(monitor='val_accuracy', patience=30, verbose=2,\n",
    "                                      mode='max', baseline=None, restore_best_weights=True)\n",
    "\n",
    "#Learning Rate Annealer\n",
    "lrr = keras.callbacks.ReduceLROnPlateau(monitor='val_accuracy',\n",
    "                       factor=.1,\n",
    "                       patience=4,\n",
    "                       min_lr=1e-4,\n",
    "                       verbose=2)"
   ]
  },
  {
   "cell_type": "code",
   "execution_count": 6,
   "metadata": {},
   "outputs": [
    {
     "name": "stdout",
     "output_type": "stream",
     "text": [
      "Weight for class 0: 1.40\n",
      "Weight for class 1: 3.52\n"
     ]
    }
   ],
   "source": [
    "# lower the number of epochs\n",
    "epochs = 150\n",
    "\n",
    "total = numpy.asarray(y_data).shape[0]\n",
    "pos = sum(numpy.asarray(y_data))\n",
    "neg = total - pos\n",
    "\n",
    "# Scaling by total/2 helps keep the loss to a similar magnitude.\n",
    "# The sum of the weights of all examples stays the same.\n",
    "# weight_for_0 = (1 / neg) * (total / 2.0)\n",
    "# weight_for_1 = (1 / pos) * (total / 2.0)\n",
    "\n",
    "weight_for_0 = (1 / neg) * total\n",
    "weight_for_1 = (1 / pos) * total\n",
    "\n",
    "class_weight = {0: weight_for_0, 1: weight_for_1}\n",
    "\n",
    "print('Weight for class 0: {:.2f}'.format(weight_for_0))\n",
    "print('Weight for class 1: {:.2f}'.format(weight_for_1))\n",
    "\n",
    "del X_data\n",
    "del y_data\n",
    "\n",
    "epochs = 100\n",
    "batch_size = 2048\n",
    "histories = []"
   ]
  },
  {
   "cell_type": "markdown",
   "metadata": {},
   "source": [
    "<h1>Simple Convolutional Network</h1>"
   ]
  },
  {
   "cell_type": "markdown",
   "metadata": {},
   "source": [
    "<p> From the dense network notebook we learned, that the learning rate of 0.001 was a good learning rate for the adam optimizer to take for the dense network. The simple convolutional network contain only 1 convolutional layer and a simple dense layer. In the there is only a convolutional layer a a maxpool layer. The activation function for the convolutional layer is ReLu.</p>"
   ]
  },
  {
   "cell_type": "code",
   "execution_count": 7,
   "metadata": {},
   "outputs": [
    {
     "name": "stdout",
     "output_type": "stream",
     "text": [
      "Epoch 1/100\n",
      " 2/82 [..............................] - ETA: 2s - loss: 1941.0864 - accuracy: 0.4966WARNING:tensorflow:Callbacks method `on_train_batch_end` is slow compared to the batch time (batch time: 0.0228s vs `on_train_batch_end` time: 0.0511s). Check your callbacks.\n",
      "82/82 [==============================] - 7s 82ms/step - loss: 84.7798 - accuracy: 0.6197 - val_loss: 0.5989 - val_accuracy: 0.7248\n",
      "Epoch 2/100\n",
      "82/82 [==============================] - 6s 79ms/step - loss: 1.2406 - accuracy: 0.7148 - val_loss: 0.5451 - val_accuracy: 0.7646\n",
      "Epoch 3/100\n",
      "82/82 [==============================] - 6s 79ms/step - loss: 1.0340 - accuracy: 0.7754 - val_loss: 0.5950 - val_accuracy: 0.7145\n",
      "Epoch 4/100\n",
      "82/82 [==============================] - 7s 80ms/step - loss: 0.9709 - accuracy: 0.7844 - val_loss: 0.4554 - val_accuracy: 0.8078\n",
      "Epoch 5/100\n",
      "82/82 [==============================] - 6s 79ms/step - loss: 0.9399 - accuracy: 0.7931 - val_loss: 0.5309 - val_accuracy: 0.7671\n",
      "Epoch 6/100\n",
      "82/82 [==============================] - 6s 78ms/step - loss: 0.9289 - accuracy: 0.7972 - val_loss: 0.4419 - val_accuracy: 0.8103\n",
      "Epoch 7/100\n",
      "82/82 [==============================] - 6s 78ms/step - loss: 0.9238 - accuracy: 0.7944 - val_loss: 0.4341 - val_accuracy: 0.8172\n",
      "Epoch 8/100\n",
      "82/82 [==============================] - 6s 79ms/step - loss: 0.9173 - accuracy: 0.7953 - val_loss: 0.4264 - val_accuracy: 0.8184\n",
      "Epoch 9/100\n",
      "82/82 [==============================] - 6s 78ms/step - loss: 0.9003 - accuracy: 0.8020 - val_loss: 0.4807 - val_accuracy: 0.7878\n",
      "Epoch 10/100\n",
      "82/82 [==============================] - 7s 79ms/step - loss: 0.8974 - accuracy: 0.8012 - val_loss: 0.5145 - val_accuracy: 0.7688\n",
      "Epoch 11/100\n",
      "82/82 [==============================] - 7s 80ms/step - loss: 0.8915 - accuracy: 0.8025 - val_loss: 0.4288 - val_accuracy: 0.8200\n",
      "Epoch 12/100\n",
      "82/82 [==============================] - 7s 80ms/step - loss: 0.8860 - accuracy: 0.8031 - val_loss: 0.5117 - val_accuracy: 0.7678\n",
      "Epoch 13/100\n",
      "82/82 [==============================] - 7s 80ms/step - loss: 0.8692 - accuracy: 0.8060 - val_loss: 0.4890 - val_accuracy: 0.7815\n",
      "Epoch 14/100\n",
      "82/82 [==============================] - 7s 79ms/step - loss: 0.8560 - accuracy: 0.8087 - val_loss: 0.4434 - val_accuracy: 0.8092\n",
      "Epoch 15/100\n",
      "81/82 [============================>.] - ETA: 0s - loss: 0.8455 - accuracy: 0.8108\n",
      "Epoch 00015: ReduceLROnPlateau reducing learning rate to 0.00010000000474974513.\n",
      "82/82 [==============================] - 7s 79ms/step - loss: 0.8458 - accuracy: 0.8107 - val_loss: 0.5381 - val_accuracy: 0.7462\n",
      "Epoch 16/100\n",
      "82/82 [==============================] - 7s 79ms/step - loss: 0.8234 - accuracy: 0.8150 - val_loss: 0.4698 - val_accuracy: 0.7934\n",
      "Epoch 17/100\n",
      "82/82 [==============================] - 7s 80ms/step - loss: 0.8141 - accuracy: 0.8164 - val_loss: 0.4781 - val_accuracy: 0.7885\n",
      "Epoch 18/100\n",
      "82/82 [==============================] - 7s 80ms/step - loss: 0.8104 - accuracy: 0.8171 - val_loss: 0.4751 - val_accuracy: 0.7910\n",
      "Epoch 19/100\n",
      "81/82 [============================>.] - ETA: 0s - loss: 0.8074 - accuracy: 0.8184\n",
      "Epoch 00019: ReduceLROnPlateau reducing learning rate to 0.0001.\n",
      "82/82 [==============================] - 7s 80ms/step - loss: 0.8076 - accuracy: 0.8183 - val_loss: 0.4755 - val_accuracy: 0.7895\n",
      "Epoch 20/100\n",
      "82/82 [==============================] - 7s 79ms/step - loss: 0.8043 - accuracy: 0.8175 - val_loss: 0.4687 - val_accuracy: 0.7939\n",
      "Epoch 21/100\n",
      "82/82 [==============================] - 7s 79ms/step - loss: 0.8017 - accuracy: 0.8186 - val_loss: 0.4698 - val_accuracy: 0.7921\n",
      "Epoch 22/100\n",
      "82/82 [==============================] - 7s 80ms/step - loss: 0.7994 - accuracy: 0.8187 - val_loss: 0.4679 - val_accuracy: 0.7966\n",
      "Epoch 23/100\n",
      "82/82 [==============================] - 7s 80ms/step - loss: 0.7977 - accuracy: 0.8196 - val_loss: 0.4845 - val_accuracy: 0.7850\n",
      "Epoch 24/100\n",
      "82/82 [==============================] - 7s 79ms/step - loss: 0.7947 - accuracy: 0.8189 - val_loss: 0.4779 - val_accuracy: 0.7900\n",
      "Epoch 25/100\n",
      "82/82 [==============================] - 7s 80ms/step - loss: 0.7938 - accuracy: 0.8191 - val_loss: 0.4801 - val_accuracy: 0.7889\n",
      "Epoch 26/100\n",
      "82/82 [==============================] - 6s 79ms/step - loss: 0.7907 - accuracy: 0.8201 - val_loss: 0.4669 - val_accuracy: 0.7983\n",
      "Epoch 27/100\n",
      "82/82 [==============================] - 7s 79ms/step - loss: 0.7886 - accuracy: 0.8200 - val_loss: 0.4711 - val_accuracy: 0.7939\n",
      "Epoch 28/100\n",
      "82/82 [==============================] - 6s 79ms/step - loss: 0.7864 - accuracy: 0.8210 - val_loss: 0.4925 - val_accuracy: 0.7792\n",
      "Epoch 29/100\n",
      "82/82 [==============================] - 7s 80ms/step - loss: 0.7838 - accuracy: 0.8210 - val_loss: 0.4709 - val_accuracy: 0.7950\n",
      "Epoch 30/100\n",
      "82/82 [==============================] - 7s 80ms/step - loss: 0.7816 - accuracy: 0.8219 - val_loss: 0.4844 - val_accuracy: 0.7862\n",
      "Epoch 31/100\n",
      "82/82 [==============================] - 7s 79ms/step - loss: 0.7793 - accuracy: 0.8215 - val_loss: 0.4820 - val_accuracy: 0.7887\n",
      "Epoch 32/100\n",
      "82/82 [==============================] - 7s 80ms/step - loss: 0.7767 - accuracy: 0.8225 - val_loss: 0.5001 - val_accuracy: 0.7759\n",
      "Epoch 33/100\n",
      "82/82 [==============================] - 7s 79ms/step - loss: 0.7747 - accuracy: 0.8218 - val_loss: 0.4727 - val_accuracy: 0.7957\n",
      "Epoch 34/100\n",
      "82/82 [==============================] - 7s 80ms/step - loss: 0.7736 - accuracy: 0.8232 - val_loss: 0.5051 - val_accuracy: 0.7764\n",
      "Epoch 35/100\n",
      "82/82 [==============================] - 7s 80ms/step - loss: 0.7710 - accuracy: 0.8230 - val_loss: 0.4931 - val_accuracy: 0.7822\n",
      "Epoch 36/100\n",
      "82/82 [==============================] - 7s 80ms/step - loss: 0.7677 - accuracy: 0.8237 - val_loss: 0.4839 - val_accuracy: 0.7864\n",
      "Epoch 37/100\n",
      "82/82 [==============================] - 7s 81ms/step - loss: 0.7655 - accuracy: 0.8239 - val_loss: 0.5026 - val_accuracy: 0.7757\n",
      "Epoch 38/100\n",
      "82/82 [==============================] - 7s 81ms/step - loss: 0.7635 - accuracy: 0.8239 - val_loss: 0.4845 - val_accuracy: 0.7888\n",
      "Epoch 39/100\n",
      "82/82 [==============================] - 7s 82ms/step - loss: 0.7617 - accuracy: 0.8241 - val_loss: 0.4843 - val_accuracy: 0.7897\n",
      "Epoch 40/100\n",
      "82/82 [==============================] - 7s 80ms/step - loss: 0.7584 - accuracy: 0.8253 - val_loss: 0.4767 - val_accuracy: 0.7965\n",
      "Epoch 41/100\n",
      "81/82 [============================>.] - ETA: 0s - loss: 0.7572 - accuracy: 0.8249Restoring model weights from the end of the best epoch.\n",
      "82/82 [==============================] - 7s 80ms/step - loss: 0.7570 - accuracy: 0.8250 - val_loss: 0.4775 - val_accuracy: 0.7953\n",
      "Epoch 00041: early stopping\n"
     ]
    }
   ],
   "source": [
    "name=\"1-Conv-128-balanced\"\n",
    "model0 = keras.Sequential(\n",
    "    [\n",
    "        keras.Input(shape=input_shape),\n",
    "        layers.Conv2D(64, kernel_size = (5, 5), activation='relu'),\n",
    "        layers.MaxPooling2D(pool_size=(2,2)),\n",
    "        layers.Flatten(),\n",
    "        layers.Dense(128, activation='relu'),\n",
    "        layers.Dense(1, activation='sigmoid')\n",
    "    \n",
    "    ],name=name\n",
    ")\n",
    "\n",
    "model0.compile(loss=\"binary_crossentropy\", optimizer=Adam(learning_rate=0.001), metrics=[\"accuracy\"])\n",
    "\n",
    "histories.append(\n",
    "    model0.fit(\n",
    "        x_train, \n",
    "        y_train, \n",
    "        batch_size=batch_size, \n",
    "        epochs=epochs, \n",
    "        validation_data=(x_val,y_val), \n",
    "        callbacks=[lrr, es], \n",
    "        class_weight=class_weight))"
   ]
  },
  {
   "cell_type": "markdown",
   "metadata": {},
   "source": [
    "<p>The second simple CNN is build similar to the first one. One difference is that there will the a batch normalization after the convolutional layer.</p>"
   ]
  },
  {
   "cell_type": "code",
   "execution_count": 8,
   "metadata": {},
   "outputs": [
    {
     "name": "stdout",
     "output_type": "stream",
     "text": [
      "Epoch 1/100\n",
      " 2/82 [..............................] - ETA: 5s - loss: 2.2654 - accuracy: 0.6655WARNING:tensorflow:Callbacks method `on_train_batch_end` is slow compared to the batch time (batch time: 0.0446s vs `on_train_batch_end` time: 0.0943s). Check your callbacks.\n",
      "82/82 [==============================] - 12s 150ms/step - loss: 1.0088 - accuracy: 0.8001 - val_loss: 8.1194 - val_accuracy: 0.7189\n",
      "Epoch 2/100\n",
      "82/82 [==============================] - 13s 160ms/step - loss: 0.8073 - accuracy: 0.8185 - val_loss: 1.1942 - val_accuracy: 0.7607\n",
      "Epoch 3/100\n",
      "82/82 [==============================] - 12s 150ms/step - loss: 0.7529 - accuracy: 0.8343 - val_loss: 0.7289 - val_accuracy: 0.7875\n",
      "Epoch 4/100\n",
      "82/82 [==============================] - 12s 149ms/step - loss: 0.7187 - accuracy: 0.8449 - val_loss: 0.3671 - val_accuracy: 0.8446\n",
      "Epoch 5/100\n",
      "82/82 [==============================] - 12s 149ms/step - loss: 0.6964 - accuracy: 0.8496 - val_loss: 1.2562 - val_accuracy: 0.7194\n",
      "Epoch 6/100\n",
      "82/82 [==============================] - 12s 149ms/step - loss: 0.6658 - accuracy: 0.8577 - val_loss: 0.5382 - val_accuracy: 0.7416\n",
      "Epoch 7/100\n",
      "82/82 [==============================] - 12s 148ms/step - loss: 0.6378 - accuracy: 0.8645 - val_loss: 0.7148 - val_accuracy: 0.8204\n",
      "Epoch 8/100\n",
      "81/82 [============================>.] - ETA: 0s - loss: 0.5928 - accuracy: 0.8746\n",
      "Epoch 00008: ReduceLROnPlateau reducing learning rate to 0.00010000000474974513.\n",
      "82/82 [==============================] - 12s 149ms/step - loss: 0.5927 - accuracy: 0.8746 - val_loss: 0.4031 - val_accuracy: 0.8386\n",
      "Epoch 9/100\n",
      "82/82 [==============================] - 12s 149ms/step - loss: 0.5019 - accuracy: 0.8945 - val_loss: 1.5280 - val_accuracy: 0.3915\n",
      "Epoch 10/100\n",
      "82/82 [==============================] - 12s 149ms/step - loss: 0.4728 - accuracy: 0.9031 - val_loss: 1.6267 - val_accuracy: 0.3728\n",
      "Epoch 11/100\n",
      "82/82 [==============================] - 12s 149ms/step - loss: 0.4525 - accuracy: 0.9087 - val_loss: 0.9062 - val_accuracy: 0.5574\n",
      "Epoch 12/100\n",
      "81/82 [============================>.] - ETA: 0s - loss: 0.4331 - accuracy: 0.9129\n",
      "Epoch 00012: ReduceLROnPlateau reducing learning rate to 0.0001.\n",
      "82/82 [==============================] - 12s 149ms/step - loss: 0.4332 - accuracy: 0.9128 - val_loss: 2.5810 - val_accuracy: 0.3391\n",
      "Epoch 13/100\n",
      "82/82 [==============================] - 12s 149ms/step - loss: 0.4136 - accuracy: 0.9179 - val_loss: 2.2744 - val_accuracy: 0.3656\n",
      "Epoch 14/100\n",
      "82/82 [==============================] - 12s 149ms/step - loss: 0.3934 - accuracy: 0.9229 - val_loss: 0.3726 - val_accuracy: 0.8486\n",
      "Epoch 15/100\n",
      "82/82 [==============================] - 12s 148ms/step - loss: 0.3740 - accuracy: 0.9274 - val_loss: 3.0753 - val_accuracy: 0.3688\n",
      "Epoch 16/100\n",
      "82/82 [==============================] - 12s 149ms/step - loss: 0.3494 - accuracy: 0.9339 - val_loss: 0.3970 - val_accuracy: 0.8407\n",
      "Epoch 17/100\n",
      "82/82 [==============================] - 12s 148ms/step - loss: 0.3287 - accuracy: 0.9383 - val_loss: 0.4123 - val_accuracy: 0.8367\n",
      "Epoch 18/100\n",
      "82/82 [==============================] - 12s 149ms/step - loss: 0.3038 - accuracy: 0.9448 - val_loss: 0.5348 - val_accuracy: 0.7906\n",
      "Epoch 19/100\n",
      "82/82 [==============================] - 12s 149ms/step - loss: 0.2810 - accuracy: 0.9501 - val_loss: 1.1445 - val_accuracy: 0.6077\n",
      "Epoch 20/100\n",
      "82/82 [==============================] - 12s 148ms/step - loss: 0.2562 - accuracy: 0.9561 - val_loss: 4.5353 - val_accuracy: 0.3619\n",
      "Epoch 21/100\n",
      "82/82 [==============================] - 12s 149ms/step - loss: 0.2359 - accuracy: 0.9613 - val_loss: 0.5019 - val_accuracy: 0.8094\n",
      "Epoch 22/100\n",
      "82/82 [==============================] - 12s 146ms/step - loss: 0.2111 - accuracy: 0.9671 - val_loss: 0.5066 - val_accuracy: 0.8261\n",
      "Epoch 23/100\n",
      "82/82 [==============================] - 12s 146ms/step - loss: 0.1873 - accuracy: 0.9724 - val_loss: 0.4954 - val_accuracy: 0.8213\n",
      "Epoch 24/100\n",
      "82/82 [==============================] - 12s 147ms/step - loss: 0.1658 - accuracy: 0.9777 - val_loss: 0.6081 - val_accuracy: 0.7931\n",
      "Epoch 25/100\n",
      "82/82 [==============================] - 12s 146ms/step - loss: 0.1461 - accuracy: 0.9823 - val_loss: 0.5974 - val_accuracy: 0.8081\n",
      "Epoch 26/100\n",
      "82/82 [==============================] - 12s 145ms/step - loss: 0.1243 - accuracy: 0.9865 - val_loss: 1.2149 - val_accuracy: 0.6538\n",
      "Epoch 27/100\n",
      "82/82 [==============================] - 12s 146ms/step - loss: 0.1085 - accuracy: 0.9894 - val_loss: 2.1110 - val_accuracy: 0.4968\n",
      "Epoch 28/100\n",
      "82/82 [==============================] - 12s 146ms/step - loss: 0.0945 - accuracy: 0.9921 - val_loss: 0.9042 - val_accuracy: 0.7514\n",
      "Epoch 29/100\n",
      "82/82 [==============================] - 12s 146ms/step - loss: 0.0809 - accuracy: 0.9944 - val_loss: 0.8114 - val_accuracy: 0.7782\n",
      "Epoch 30/100\n",
      "82/82 [==============================] - 12s 146ms/step - loss: 0.0704 - accuracy: 0.9958 - val_loss: 0.5994 - val_accuracy: 0.8362\n",
      "Epoch 31/100\n",
      "82/82 [==============================] - 12s 145ms/step - loss: 0.0629 - accuracy: 0.9968 - val_loss: 1.5882 - val_accuracy: 0.6243\n",
      "Epoch 32/100\n",
      "82/82 [==============================] - 12s 147ms/step - loss: 0.0541 - accuracy: 0.9979 - val_loss: 0.6898 - val_accuracy: 0.8120\n",
      "Epoch 33/100\n",
      "82/82 [==============================] - 12s 152ms/step - loss: 0.0459 - accuracy: 0.9986 - val_loss: 0.6658 - val_accuracy: 0.8263\n",
      "Epoch 34/100\n",
      "82/82 [==============================] - 12s 145ms/step - loss: 0.0399 - accuracy: 0.9991 - val_loss: 1.8029 - val_accuracy: 0.6154\n",
      "Epoch 35/100\n",
      "82/82 [==============================] - 12s 145ms/step - loss: 0.0343 - accuracy: 0.9993 - val_loss: 0.6713 - val_accuracy: 0.8352\n",
      "Epoch 36/100\n",
      "82/82 [==============================] - 12s 146ms/step - loss: 0.0305 - accuracy: 0.9996 - val_loss: 1.4118 - val_accuracy: 0.6942\n",
      "Epoch 37/100\n",
      "82/82 [==============================] - 12s 146ms/step - loss: 0.0273 - accuracy: 0.9997 - val_loss: 0.9447 - val_accuracy: 0.7832\n",
      "Epoch 38/100\n",
      "82/82 [==============================] - 12s 146ms/step - loss: 0.0259 - accuracy: 0.9996 - val_loss: 0.8159 - val_accuracy: 0.8088\n",
      "Epoch 39/100\n",
      "82/82 [==============================] - 13s 153ms/step - loss: 0.0215 - accuracy: 0.9999 - val_loss: 1.0400 - val_accuracy: 0.7750\n",
      "Epoch 40/100\n",
      "82/82 [==============================] - 12s 147ms/step - loss: 0.0191 - accuracy: 0.9999 - val_loss: 0.7534 - val_accuracy: 0.8420\n",
      "Epoch 41/100\n",
      "82/82 [==============================] - 12s 146ms/step - loss: 0.0172 - accuracy: 1.0000 - val_loss: 0.9951 - val_accuracy: 0.7881\n",
      "Epoch 42/100\n",
      "82/82 [==============================] - 13s 153ms/step - loss: 0.0157 - accuracy: 0.9999 - val_loss: 0.8149 - val_accuracy: 0.8390\n",
      "Epoch 43/100\n",
      "82/82 [==============================] - 12s 145ms/step - loss: 0.0142 - accuracy: 0.9999 - val_loss: 0.9524 - val_accuracy: 0.8194\n",
      "Epoch 44/100\n",
      "81/82 [============================>.] - ETA: 0s - loss: 0.0194 - accuracy: 0.9995Restoring model weights from the end of the best epoch.\n",
      "82/82 [==============================] - 12s 147ms/step - loss: 0.0194 - accuracy: 0.9995 - val_loss: 0.8640 - val_accuracy: 0.8246\n",
      "Epoch 00044: early stopping\n"
     ]
    }
   ],
   "source": [
    "name=\"1-Conv-128-norm-balanced\"\n",
    "model1 = keras.Sequential(\n",
    "    [\n",
    "        keras.Input(shape=input_shape),\n",
    "        layers.Conv2D(64, kernel_size = (5, 5), activation='relu'),\n",
    "        layers.BatchNormalization(),\n",
    "        layers.MaxPooling2D(pool_size=(2,2)),\n",
    "        layers.Flatten(),\n",
    "        layers.BatchNormalization(),\n",
    "        layers.Dense(128, activation='relu'),\n",
    "        layers.BatchNormalization(),\n",
    "        layers.Dense(1, activation='sigmoid')\n",
    "    \n",
    "    ],name=name\n",
    ")\n",
    "\n",
    "model1.compile(loss=\"binary_crossentropy\", optimizer=Adam(learning_rate=0.001), metrics=[\"accuracy\"])\n",
    "\n",
    "histories.append(\n",
    "    model1.fit(\n",
    "        x_train, \n",
    "        y_train, \n",
    "        batch_size=batch_size, \n",
    "        epochs=epochs, \n",
    "        validation_data=(x_val,y_val), \n",
    "        callbacks=[lrr, es], \n",
    "        class_weight=class_weight))"
   ]
  },
  {
   "cell_type": "code",
   "execution_count": 9,
   "metadata": {},
   "outputs": [
    {
     "data": {
      "text/html": [
       "<style  type=\"text/css\" >\n",
       "</style><table id=\"T_77e35f86_d445_11eb_a78a_40e230e37f37\" ><thead>    <tr>        <th class=\"blank level0\" ></th>        <th class=\"col_heading level0 col0\" >loss</th>        <th class=\"col_heading level0 col1\" >accuracy</th>        <th class=\"col_heading level0 col2\" >val_loss</th>        <th class=\"col_heading level0 col3\" >val_accuracy</th>    </tr>    <tr>        <th class=\"index_name level0\" >model size</th>        <th class=\"blank\" ></th>        <th class=\"blank\" ></th>        <th class=\"blank\" ></th>        <th class=\"blank\" ></th>    </tr></thead><tbody>\n",
       "                <tr>\n",
       "                        <th id=\"T_77e35f86_d445_11eb_a78a_40e230e37f37level0_row0\" class=\"row_heading level0 row0\" >1-Conv-128-balanced</th>\n",
       "                        <td id=\"T_77e35f86_d445_11eb_a78a_40e230e37f37row0_col0\" class=\"data row0 col0\" >0.89</td>\n",
       "                        <td id=\"T_77e35f86_d445_11eb_a78a_40e230e37f37row0_col1\" class=\"data row0 col1\" >80.25%</td>\n",
       "                        <td id=\"T_77e35f86_d445_11eb_a78a_40e230e37f37row0_col2\" class=\"data row0 col2\" >0.43</td>\n",
       "                        <td id=\"T_77e35f86_d445_11eb_a78a_40e230e37f37row0_col3\" class=\"data row0 col3\" >82.00%</td>\n",
       "            </tr>\n",
       "            <tr>\n",
       "                        <th id=\"T_77e35f86_d445_11eb_a78a_40e230e37f37level0_row1\" class=\"row_heading level0 row1\" >1-Conv-128-norm-balanced</th>\n",
       "                        <td id=\"T_77e35f86_d445_11eb_a78a_40e230e37f37row1_col0\" class=\"data row1 col0\" >0.39</td>\n",
       "                        <td id=\"T_77e35f86_d445_11eb_a78a_40e230e37f37row1_col1\" class=\"data row1 col1\" >92.29%</td>\n",
       "                        <td id=\"T_77e35f86_d445_11eb_a78a_40e230e37f37row1_col2\" class=\"data row1 col2\" >0.37</td>\n",
       "                        <td id=\"T_77e35f86_d445_11eb_a78a_40e230e37f37row1_col3\" class=\"data row1 col3\" >84.86%</td>\n",
       "            </tr>\n",
       "    </tbody></table>"
      ],
      "text/plain": [
       "<pandas.io.formats.style.Styler at 0x1cec24ebc88>"
      ]
     },
     "execution_count": 9,
     "metadata": {},
     "output_type": "execute_result"
    }
   ],
   "source": [
    "acc_df(histories)"
   ]
  },
  {
   "cell_type": "code",
   "execution_count": 10,
   "metadata": {},
   "outputs": [
    {
     "data": {
      "text/html": [
       "<style  type=\"text/css\" >\n",
       "</style><table id=\"T_7a23b540_d445_11eb_a425_40e230e37f37\" ><thead>    <tr>        <th class=\"blank level0\" ></th>        <th class=\"col_heading level0 col0\" >precision (cancer positive)</th>        <th class=\"col_heading level0 col1\" >recall (cancer positive)</th>    </tr>    <tr>        <th class=\"index_name level0\" >model</th>        <th class=\"blank\" ></th>        <th class=\"blank\" ></th>    </tr></thead><tbody>\n",
       "                <tr>\n",
       "                        <th id=\"T_7a23b540_d445_11eb_a425_40e230e37f37level0_row0\" class=\"row_heading level0 row0\" >1-Conv-128-balanced</th>\n",
       "                        <td id=\"T_7a23b540_d445_11eb_a425_40e230e37f37row0_col0\" class=\"data row0 col0\" >67.99%</td>\n",
       "                        <td id=\"T_7a23b540_d445_11eb_a425_40e230e37f37row0_col1\" class=\"data row0 col1\" >66.63%</td>\n",
       "            </tr>\n",
       "            <tr>\n",
       "                        <th id=\"T_7a23b540_d445_11eb_a425_40e230e37f37level0_row1\" class=\"row_heading level0 row1\" >1-Conv-128-norm-balanced</th>\n",
       "                        <td id=\"T_7a23b540_d445_11eb_a425_40e230e37f37row1_col0\" class=\"data row1 col0\" >75.64%</td>\n",
       "                        <td id=\"T_7a23b540_d445_11eb_a425_40e230e37f37row1_col1\" class=\"data row1 col1\" >67.18%</td>\n",
       "            </tr>\n",
       "    </tbody></table>"
      ],
      "text/plain": [
       "<pandas.io.formats.style.Styler at 0x1cec68a5548>"
      ]
     },
     "execution_count": 10,
     "metadata": {},
     "output_type": "execute_result"
    }
   ],
   "source": [
    "models = [model0, model1]\n",
    "prec_rec_df(models)"
   ]
  },
  {
   "cell_type": "code",
   "execution_count": 11,
   "metadata": {},
   "outputs": [
    {
     "data": {
      "image/png": "[encoded data removed]",
      "text/plain": [
       "<Figure size 432x288 with 1 Axes>"
      ]
     },
     "metadata": {
      "needs_background": "light"
     },
     "output_type": "display_data"
    },
    {
     "data": {
      "image/png": "[encoded data removed]",
      "text/plain": [
       "<Figure size 432x288 with 1 Axes>"
      ]
     },
     "metadata": {
      "needs_background": "light"
     },
     "output_type": "display_data"
    }
   ],
   "source": [
    "plot_accuracies(histories,colors=['#464749','#e60000' ,'#4d3c2f', '#c07156', '#806b59', '#b9b2a3'],\n",
    "                alpha=.5, lower_ylim=0, upper_ylim=1)"
   ]
  },
  {
   "cell_type": "code",
   "execution_count": 12,
   "metadata": {},
   "outputs": [
    {
     "data": {
      "image/png": "[encoded data removed]",
      "text/plain": [
       "<Figure size 720x504 with 2 Axes>"
      ]
     },
     "metadata": {
      "needs_background": "light"
     },
     "output_type": "display_data"
    }
   ],
   "source": [
    "# plot confuction matrix\n",
    "plt=conf_matrix(model0, x_test, y_test)\n",
    "plt.show()"
   ]
  },
  {
   "cell_type": "code",
   "execution_count": 13,
   "metadata": {},
   "outputs": [
    {
     "data": {
      "image/png": "[encoded data removed]",
      "text/plain": [
       "<Figure size 720x504 with 2 Axes>"
      ]
     },
     "metadata": {
      "needs_background": "light"
     },
     "output_type": "display_data"
    }
   ],
   "source": [
    "# plot confuction matrix\n",
    "plt=conf_matrix(model1, x_test, y_test)\n",
    "plt.show()"
   ]
  },
  {
   "cell_type": "markdown",
   "metadata": {},
   "source": [
    "<h1> Advanced CNN </h1>"
   ]
  },
  {
   "cell_type": "markdown",
   "metadata": {},
   "source": [
    "<p>This CNN is an advanced verson of the CNN. The first CNN contains 2 convolutional layers. Each layer gets batch normalized and before the flattening there is also a max pooling layer.</p>"
   ]
  },
  {
   "cell_type": "code",
   "execution_count": 14,
   "metadata": {},
   "outputs": [],
   "source": [
    "epochs = 50\n",
    "batch_size = 1024"
   ]
  },
  {
   "cell_type": "code",
   "execution_count": null,
   "metadata": {},
   "outputs": [
    {
     "name": "stdout",
     "output_type": "stream",
     "text": [
      "Epoch 1/50\n",
      "  2/163 [..............................] - ETA: 20s - loss: 3.0111 - accuracy: 0.6543WARNING:tensorflow:Callbacks method `on_train_batch_end` is slow compared to the batch time (batch time: 0.0704s vs `on_train_batch_end` time: 0.1875s). Check your callbacks.\n",
      "163/163 [==============================] - 48s 292ms/step - loss: 0.8591 - accuracy: 0.8187 - val_loss: 5.4840 - val_accuracy: 0.7190\n",
      "Epoch 2/50\n",
      "163/163 [==============================] - 46s 285ms/step - loss: 0.7435 - accuracy: 0.8391 - val_loss: 2.2278 - val_accuracy: 0.7190\n",
      "Epoch 3/50\n",
      "163/163 [==============================] - 47s 287ms/step - loss: 0.7106 - accuracy: 0.8454 - val_loss: 2.6473 - val_accuracy: 0.7191\n",
      "Epoch 4/50\n",
      "163/163 [==============================] - 47s 288ms/step - loss: 0.6906 - accuracy: 0.8504 - val_loss: 0.4493 - val_accuracy: 0.8015\n",
      "Epoch 5/50\n",
      "163/163 [==============================] - 47s 287ms/step - loss: 0.6708 - accuracy: 0.8561 - val_loss: 0.5326 - val_accuracy: 0.7434\n",
      "Epoch 6/50\n",
      "163/163 [==============================] - 48s 294ms/step - loss: 0.6564 - accuracy: 0.8585 - val_loss: 0.7251 - val_accuracy: 0.7584\n",
      "Epoch 7/50\n",
      "163/163 [==============================] - 48s 294ms/step - loss: 0.6345 - accuracy: 0.8639 - val_loss: 0.5550 - val_accuracy: 0.8273\n",
      "Epoch 8/50\n",
      "163/163 [==============================] - 47s 288ms/step - loss: 0.6042 - accuracy: 0.8699 - val_loss: 0.3568 - val_accuracy: 0.8480\n",
      "Epoch 9/50\n",
      "163/163 [==============================] - 48s 292ms/step - loss: 0.5667 - accuracy: 0.8793 - val_loss: 0.4531 - val_accuracy: 0.8084\n",
      "Epoch 10/50\n",
      "163/163 [==============================] - 47s 291ms/step - loss: 0.5139 - accuracy: 0.8913 - val_loss: 1.2545 - val_accuracy: 0.5315\n",
      "Epoch 11/50\n",
      "163/163 [==============================] - 49s 298ms/step - loss: 0.4432 - accuracy: 0.9075 - val_loss: 0.5500 - val_accuracy: 0.8004\n",
      "Epoch 12/50\n",
      "163/163 [==============================] - ETA: 0s - loss: 0.3693 - accuracy: 0.9251\n",
      "Epoch 00012: ReduceLROnPlateau reducing learning rate to 0.00010000000474974513.\n",
      "163/163 [==============================] - 47s 287ms/step - loss: 0.3693 - accuracy: 0.9251 - val_loss: 0.8831 - val_accuracy: 0.8196\n",
      "Epoch 13/50\n",
      "163/163 [==============================] - 46s 282ms/step - loss: 0.2315 - accuracy: 0.9575 - val_loss: 0.3886 - val_accuracy: 0.8524\n",
      "Epoch 14/50\n",
      "163/163 [==============================] - 46s 280ms/step - loss: 0.1930 - accuracy: 0.9674 - val_loss: 0.3901 - val_accuracy: 0.8529\n",
      "Epoch 15/50\n",
      "163/163 [==============================] - 47s 289ms/step - loss: 0.1712 - accuracy: 0.9721 - val_loss: 0.4097 - val_accuracy: 0.8575\n",
      "Epoch 16/50\n",
      "163/163 [==============================] - 47s 286ms/step - loss: 0.1537 - accuracy: 0.9758 - val_loss: 0.4341 - val_accuracy: 0.8570\n",
      "Epoch 17/50\n",
      "163/163 [==============================] - 46s 280ms/step - loss: 0.1373 - accuracy: 0.9794 - val_loss: 0.4494 - val_accuracy: 0.8551\n",
      "Epoch 18/50\n",
      "163/163 [==============================] - 47s 290ms/step - loss: 0.1212 - accuracy: 0.9823 - val_loss: 0.4565 - val_accuracy: 0.8506\n",
      "Epoch 19/50\n",
      "163/163 [==============================] - ETA: 0s - loss: 0.1072 - accuracy: 0.9854\n",
      "Epoch 00019: ReduceLROnPlateau reducing learning rate to 0.0001.\n",
      "163/163 [==============================] - 49s 299ms/step - loss: 0.1072 - accuracy: 0.9854 - val_loss: 0.4707 - val_accuracy: 0.8542\n",
      "Epoch 20/50\n",
      "163/163 [==============================] - 46s 281ms/step - loss: 0.0938 - accuracy: 0.9880 - val_loss: 0.4978 - val_accuracy: 0.8492\n",
      "Epoch 21/50\n",
      "163/163 [==============================] - 46s 281ms/step - loss: 0.0815 - accuracy: 0.9903 - val_loss: 0.5000 - val_accuracy: 0.8528\n",
      "Epoch 22/50\n",
      "163/163 [==============================] - 48s 292ms/step - loss: 0.0712 - accuracy: 0.9919 - val_loss: 0.5171 - val_accuracy: 0.8519\n",
      "Epoch 23/50\n",
      "163/163 [==============================] - 46s 285ms/step - loss: 0.0610 - accuracy: 0.9937 - val_loss: 0.5381 - val_accuracy: 0.8508\n",
      "Epoch 24/50\n",
      "163/163 [==============================] - 47s 287ms/step - loss: 0.0520 - accuracy: 0.9952 - val_loss: 0.5449 - val_accuracy: 0.8547\n",
      "Epoch 25/50\n",
      "163/163 [==============================] - 48s 295ms/step - loss: 0.0446 - accuracy: 0.9965 - val_loss: 0.5791 - val_accuracy: 0.8489\n",
      "Epoch 26/50\n",
      "163/163 [==============================] - 48s 292ms/step - loss: 0.0377 - accuracy: 0.9974 - val_loss: 0.5899 - val_accuracy: 0.8558\n",
      "Epoch 27/50\n",
      "163/163 [==============================] - 50s 307ms/step - loss: 0.0321 - accuracy: 0.9981 - val_loss: 0.6160 - val_accuracy: 0.8540\n",
      "Epoch 28/50\n",
      "163/163 [==============================] - 46s 285ms/step - loss: 0.0271 - accuracy: 0.9987 - val_loss: 0.6288 - val_accuracy: 0.8547\n",
      "Epoch 29/50\n",
      "163/163 [==============================] - 45s 278ms/step - loss: 0.0240 - accuracy: 0.9989 - val_loss: 0.6350 - val_accuracy: 0.8509\n",
      "Epoch 30/50\n",
      "163/163 [==============================] - 46s 283ms/step - loss: 0.0197 - accuracy: 0.9993 - val_loss: 0.6454 - val_accuracy: 0.8524\n",
      "Epoch 31/50\n",
      "163/163 [==============================] - 47s 286ms/step - loss: 0.0165 - accuracy: 0.9995 - val_loss: 0.6524 - val_accuracy: 0.8526\n",
      "Epoch 32/50\n",
      "163/163 [==============================] - 45s 278ms/step - loss: 0.0141 - accuracy: 0.9997 - val_loss: 0.6924 - val_accuracy: 0.8520\n",
      "Epoch 33/50\n",
      "163/163 [==============================] - 45s 278ms/step - loss: 0.0120 - accuracy: 0.9998 - val_loss: 0.6843 - val_accuracy: 0.8505\n",
      "Epoch 34/50\n",
      "163/163 [==============================] - 45s 278ms/step - loss: 0.0108 - accuracy: 0.9998 - val_loss: 0.7011 - val_accuracy: 0.8535\n",
      "Epoch 35/50\n",
      "163/163 [==============================] - 47s 289ms/step - loss: 0.0094 - accuracy: 0.9999 - val_loss: 0.7163 - val_accuracy: 0.8519\n",
      "Epoch 36/50\n",
      "150/163 [==========================>...] - ETA: 3s - loss: 0.0082 - accuracy: 0.9999"
     ]
    }
   ],
   "source": [
    "name=\"2-Conv-128-norm-balanced\"\n",
    "model2 = keras.Sequential(\n",
    "    [\n",
    "        keras.Input(shape=input_shape),\n",
    "        layers.Conv2D(128, kernel_size = (5, 5), activation='relu'),\n",
    "        layers.BatchNormalization(),\n",
    "        layers.Conv2D(64, kernel_size = (5, 5), activation='relu'),\n",
    "        layers.BatchNormalization(),\n",
    "        layers.MaxPooling2D(pool_size=(2,2)),\n",
    "        \n",
    "        layers.Flatten(),\n",
    "        layers.BatchNormalization(),\n",
    "        layers.Dense(128, activation='relu'),\n",
    "        layers.BatchNormalization(),\n",
    "        layers.Dense(1, activation='sigmoid')\n",
    "    \n",
    "    ],name=name\n",
    ")\n",
    "\n",
    "model2.compile(loss=\"binary_crossentropy\", optimizer=Adam(learning_rate=0.001), metrics=[\"accuracy\"])\n",
    "\n",
    "histories.append(\n",
    "    model2.fit(\n",
    "        x_train, \n",
    "        y_train, \n",
    "        batch_size=batch_size, \n",
    "        epochs=epochs, \n",
    "        validation_data=(x_val,y_val), \n",
    "        callbacks=[lrr, es], \n",
    "        class_weight=class_weight))"
   ]
  },
  {
   "cell_type": "code",
   "execution_count": null,
   "metadata": {},
   "outputs": [],
   "source": [
    "name=\"2-Conv-128-norm-dropout-balanced\"\n",
    "model3 = keras.Sequential(\n",
    "    [\n",
    "        keras.Input(shape=input_shape),\n",
    "        layers.Conv2D(128,kernel_size=(5,5),activation='relu'),\n",
    "        layers.BatchNormalization(),\n",
    "        layers.Conv2D(64, kernel_size = (5, 5), activation='relu'),\n",
    "        layers.BatchNormalization(),\n",
    "        keras.layers.Dropout(0.4),\n",
    "        layers.MaxPooling2D(pool_size=(2,2)),\n",
    "        \n",
    "        layers.Flatten(),\n",
    "        keras.layers.BatchNormalization(),\n",
    "        layers.Dense(128, activation='relu'),\n",
    "        layers.BatchNormalization(),\n",
    "        keras.layers.Dropout(0.4),\n",
    "        layers.Dense(1, activation='sigmoid')\n",
    "    \n",
    "    ],name=name\n",
    ")\n",
    "\n",
    "model3.compile(loss=\"binary_crossentropy\", optimizer=Adam(learning_rate=0.001), metrics=[\"accuracy\"])\n",
    "\n",
    "histories.append(\n",
    "    model3.fit(\n",
    "        x_train, \n",
    "        y_train, \n",
    "        batch_size=batch_size, \n",
    "        epochs=epochs, \n",
    "        validation_data=(x_val,y_val), \n",
    "        callbacks=[lrr, es], \n",
    "        class_weight=class_weight))"
   ]
  },
  {
   "cell_type": "code",
   "execution_count": null,
   "metadata": {},
   "outputs": [],
   "source": [
    "acc_df(histories[-2:])"
   ]
  },
  {
   "cell_type": "code",
   "execution_count": null,
   "metadata": {},
   "outputs": [],
   "source": [
    "models = [model2, model3]\n",
    "prec_rec_df(models)"
   ]
  },
  {
   "cell_type": "code",
   "execution_count": null,
   "metadata": {},
   "outputs": [],
   "source": [
    "plot_accuracies(histories,colors=['#464749','#e60000' ,'#4d3c2f', '#c07156', '#806b59', '#b9b2a3'],\n",
    "                alpha=.5, lower_ylim=0, upper_ylim=1)"
   ]
  },
  {
   "cell_type": "code",
   "execution_count": null,
   "metadata": {},
   "outputs": [],
   "source": [
    "# plot confuction matrix\n",
    "plt=conf_matrix(model2, x_test, y_test)\n",
    "plt.show()"
   ]
  },
  {
   "cell_type": "code",
   "execution_count": null,
   "metadata": {},
   "outputs": [],
   "source": [
    "# plot confuction matrix\n",
    "plt=conf_matrix(model3, x_test, y_test)\n",
    "plt.show()"
   ]
  },
  {
   "cell_type": "markdown",
   "metadata": {},
   "source": [
    "<h1> Learnings </h1>"
   ]
  },
  {
   "cell_type": "markdown",
   "metadata": {},
   "source": [
    "<p>Testtesttest </p>"
   ]
  },
  {
   "cell_type": "markdown",
   "metadata": {},
   "source": [
    "<h1>Advanced CNN with optimized dense layer</h1>"
   ]
  },
  {
   "cell_type": "code",
   "execution_count": null,
   "metadata": {},
   "outputs": [],
   "source": [
    "es = keras.callbacks.EarlyStopping(monitor='val_accuracy', patience=6, verbose=2,\n",
    "                                      mode='max', baseline=None, restore_best_weights=True)"
   ]
  },
  {
   "cell_type": "code",
   "execution_count": null,
   "metadata": {},
   "outputs": [],
   "source": [
    "batch_size = 512\n",
    "epochs = 50\n",
    "\n",
    "name=\"4-Conv-128-256-norm-dropout\"\n",
    "model5 = keras.Sequential(\n",
    "    [\n",
    "        keras.Input(shape=input_shape),\n",
    "        layers.BatchNormalization(),\n",
    "        layers.Conv2D(256,kernel_size=(5,5),activation='relu'),\n",
    "        layers.BatchNormalization(),\n",
    "        layers.Conv2D(128,kernel_size=(5,5),activation='relu'),\n",
    "        layers.BatchNormalization(),\n",
    "        layers.MaxPooling2D(pool_size=(2,2)),\n",
    "        \n",
    "        layers.Conv2D(64,kernel_size=(3,3),activation='relu'),\n",
    "        layers.BatchNormalization(),\n",
    "        layers.Conv2D(64,kernel_size=(3,3),activation='relu'),\n",
    "        layers.BatchNormalization(),\n",
    "        layers.Dropout(0.3),\n",
    "        layers.MaxPooling2D(pool_size=(2,2)),\n",
    "\n",
    "        layers.Flatten(),\n",
    "        layers.BatchNormalization(),\n",
    "        layers.Dense(128, activation='relu'),\n",
    "        layers.BatchNormalization(),\n",
    "        layers.Dropout(0.4),\n",
    "        layers.Dense(256, activation='relu'),\n",
    "        layers.BatchNormalization(),\n",
    "        layers.Dropout(0.4),\n",
    "        layers.Dense(1, activation='sigmoid')\n",
    "    \n",
    "    ],name=name\n",
    ")\n",
    "\n",
    "model5.compile(loss=\"binary_crossentropy\", optimizer=Adam(learning_rate=0.001), metrics=[\"accuracy\"])\n",
    "\n",
    "histories.append(model5.fit(x_train, y_train,\n",
    "                            batch_size=batch_size,\n",
    "                            epochs=epochs,\n",
    "                            callbacks=[lrr, es],\n",
    "                            validation_data=(x_val,y_val)))"
   ]
  },
  {
   "cell_type": "code",
   "execution_count": null,
   "metadata": {},
   "outputs": [],
   "source": [
    "name=\"4-Conv-128-256-norm-dropout-balanced\"\n",
    "model5 = keras.Sequential(\n",
    "    [\n",
    "        keras.Input(shape=input_shape),\n",
    "        layers.BatchNormalization(),\n",
    "        layers.Conv2D(256,kernel_size=(5,5),activation='relu'),\n",
    "        layers.BatchNormalization(),\n",
    "        layers.Conv2D(128,kernel_size=(5,5),activation='relu'),\n",
    "        layers.BatchNormalization(),\n",
    "        layers.MaxPooling2D(pool_size=(2,2)),\n",
    "        \n",
    "        layers.Conv2D(64,kernel_size=(3,3),activation='relu'),\n",
    "        layers.BatchNormalization(),\n",
    "        layers.Conv2D(64,kernel_size=(3,3),activation='relu'),\n",
    "        layers.BatchNormalization(),\n",
    "        layers.Dropout(0.3),\n",
    "        layers.MaxPooling2D(pool_size=(2,2)),\n",
    "\n",
    "        layers.Flatten(),\n",
    "        layers.BatchNormalization(),\n",
    "        layers.Dense(128, activation='relu'),\n",
    "        layers.BatchNormalization(),\n",
    "        layers.Dropout(0.4),\n",
    "        layers.Dense(256, activation='relu'),\n",
    "        layers.BatchNormalization(),\n",
    "        layers.Dropout(0.4),\n",
    "        layers.Dense(1, activation='sigmoid')\n",
    "    \n",
    "    ],name=name\n",
    ")\n",
    "\n",
    "model5.compile(loss=\"binary_crossentropy\", optimizer=Adam(learning_rate=0.001), metrics=[\"accuracy\"])\n",
    "\n",
    "histories.append(model5.fit(x_train, y_train,\n",
    "                            batch_size=batch_size,\n",
    "                            epochs=epochs,\n",
    "                            validation_data=(x_val,y_val),\n",
    "                            callbacks=[lrr, es],\n",
    "                            class_weight=class_weight))"
   ]
  },
  {
   "cell_type": "code",
   "execution_count": null,
   "metadata": {},
   "outputs": [],
   "source": [
    "acc_df(histories[-2:])"
   ]
  },
  {
   "cell_type": "code",
   "execution_count": null,
   "metadata": {},
   "outputs": [],
   "source": [
    "acc_df(histories)"
   ]
  },
  {
   "cell_type": "code",
   "execution_count": null,
   "metadata": {},
   "outputs": [],
   "source": [
    "models = [model4, model5]\n",
    "prec_rec_df(models)"
   ]
  },
  {
   "cell_type": "code",
   "execution_count": null,
   "metadata": {},
   "outputs": [],
   "source": [
    "models = [model0, model1, model2, model3, model4, model5]\n",
    "prec_rec_df(models)"
   ]
  },
  {
   "cell_type": "code",
   "execution_count": null,
   "metadata": {},
   "outputs": [],
   "source": [
    "plot_accuracies(histories[-2:],colors=['#464749','#e60000' ,'#4d3c2f', '#c07156', '#806b59', '#b9b2a3'],\n",
    "                alpha=.5, lower_ylim=0, upper_ylim=1)"
   ]
  },
  {
   "cell_type": "code",
   "execution_count": null,
   "metadata": {},
   "outputs": [],
   "source": [
    "plot_accuracies(histories,colors=['#464749','#e60000' ,'#4d3c2f', '#c07156', '#806b59', '#b9b2a3'],\n",
    "                alpha=.5, lower_ylim=0, upper_ylim=1)"
   ]
  },
  {
   "cell_type": "code",
   "execution_count": null,
   "metadata": {},
   "outputs": [],
   "source": [
    "# plot confuction matrix\n",
    "plt=conf_matrix(model4, x_test, y_test)\n",
    "plt.show()"
   ]
  },
  {
   "cell_type": "code",
   "execution_count": null,
   "metadata": {},
   "outputs": [],
   "source": [
    "# plot confuction matrix\n",
    "plt=conf_matrix(model5, x_test, y_test)\n",
    "plt.show()"
   ]
  }
 ],
 "metadata": {
  "kernelspec": {
   "display_name": "Python [conda env:tensorflow_gpu] *",
   "language": "python",
   "name": "conda-env-tensorflow_gpu-py"
  },
  "language_info": {
   "codemirror_mode": {
    "name": "ipython",
    "version": 3
   },
   "file_extension": ".py",
   "mimetype": "text/x-python",
   "name": "python",
   "nbconvert_exporter": "python",
   "pygments_lexer": "ipython3",
   "version": "3.7.9"
  }
 },
 "nbformat": 4,
 "nbformat_minor": 4
}
